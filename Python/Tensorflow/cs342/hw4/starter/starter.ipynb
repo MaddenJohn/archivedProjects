{
 "cells": [
  {
   "cell_type": "markdown",
   "metadata": {},
   "source": [
    "# Homework 4\n",
    "In this homework you will train your first convolutional neural network on  images from supertux. \n",
    "\n",
    "Development notes: \n",
    "\n",
    "1) If you are doing your homework in a Jupyter/iPython notebook you may need to 'Restart & Clear Output' after making a change and re-running a cell.  TensorFlow will not allow you to create multiple variables with the same name, which is what you are doing when you run a cell that creates a variable twice.<br/><br/>\n",
    "2) Be careful with your calls to global_variables_initializer(). If you call it after training one network it will re-initialize your variables erasing your training.  In general, double check the outputs of your model after all training and before turning your model in. Ending a session will discard all your variable values.\n",
    "\n",
    "## Part 0: Setup"
   ]
  },
  {
   "cell_type": "code",
   "execution_count": 1,
   "metadata": {},
   "outputs": [
    {
     "name": "stdout",
     "output_type": "stream",
     "text": [
      "Input shape: (12257, 64, 64, 3)\n",
      "Labels shape: (12257,)\n"
     ]
    }
   ],
   "source": [
    "import tensorflow as tf\n",
    "import numpy as np\n",
    "import util\n",
    "\n",
    "# Load the data we are giving you\n",
    "def load(filename, W=64, H=64):\n",
    "    data = np.fromfile(filename, dtype=np.uint8).reshape((-1, W*H*3+1))\n",
    "    images, labels = data[:, :-1].reshape((-1,H,W,3)), data[:, -1]\n",
    "    return images, labels\n",
    "\n",
    "image_data, label_data = load('tux_train.dat')\n",
    "\n",
    "print('Input shape: ' + str(image_data.shape))\n",
    "print('Labels shape: ' + str(label_data.shape))\n",
    "\n",
    "num_classes = 6"
   ]
  },
  {
   "cell_type": "markdown",
   "metadata": {},
   "source": [
    "## Part 1: Define your convnet\n",
    "\n",
    "Make sure the total number of parameters is less than 100,000."
   ]
  },
  {
   "cell_type": "code",
   "execution_count": 7,
   "metadata": {},
   "outputs": [
    {
     "name": "stdout",
     "output_type": "stream",
     "text": [
      "Tensor(\"conv1/Relu:0\", shape=(?, 32, 32, 6), dtype=float32)\n",
      "Tensor(\"conv2/Relu:0\", shape=(?, 16, 16, 6), dtype=float32)\n",
      "Tensor(\"conv3/Relu:0\", shape=(?, 8, 8, 6), dtype=float32)\n",
      "Tensor(\"conv4/Relu:0\", shape=(?, 4, 4, 6), dtype=float32)\n",
      "Tensor(\"conv5/BiasAdd:0\", shape=(?, 2, 2, 6), dtype=float32)\n",
      "Tensor(\"pool1/MaxPool:0\", shape=(?, 1, 1, 6), dtype=float32)\n",
      "Tensor(\"Mean:0\", shape=(), dtype=float32)\n",
      "<tensorflow.python.training.adam.AdamOptimizer object at 0x10fb1b2b0>\n",
      "Total number of variables used  4080 / 100000\n"
     ]
    }
   ],
   "source": [
    "# IMPORTANT:\n",
    "# Give each of your layers a scope=(<layer_name>) argument\n",
    "#    with layer_name as 'conv1'...'conv5' or 'pool'\n",
    "\n",
    "# Lets clear the tensorflow graph, so that you don't have to restart the notebook every time you change the network\n",
    "tf.reset_default_graph()\n",
    "\n",
    "# Set up your input placeholder\n",
    "inputs = tf.placeholder(tf.float32, (None,64,64,3), name='input')\n",
    "\n",
    "# Whenever you deal with image data it's important to mean center it first and subtract the standard deviation\n",
    "white_inputs = (inputs - 100.) / 72.\n",
    "\n",
    "# Set up your label placeholders\n",
    "labels = tf.placeholder(tf.int64, (None), name='labels')\n",
    "\n",
    "# Step 1: define the compute graph of your CNN here\n",
    "#   Use 5 conv2d layers (tf.contrib.layers.conv2d) and one pooling layer tf.contrib.layers.max_pool2d or tf.contrib.layers.avg_pool2d.\n",
    "#   The output of the network should be a None x 1 x 1 x 6 tensor.\n",
    "#   Make sure the last conv2d does not have a ReLU: activation_fn=None\n",
    "\n",
    "# Convolutional Layer #1\n",
    "conv1 = tf.contrib.layers.conv2d(\n",
    "  inputs=white_inputs,\n",
    "  num_outputs=6,\n",
    "  kernel_size=[5, 5],\n",
    "  stride=2,\n",
    "  padding=\"same\",\n",
    "  scope='conv1')\n",
    "print(conv1)\n",
    "\n",
    "# Convolutional Layer #2\n",
    "conv2 = tf.contrib.layers.conv2d(\n",
    "  inputs=conv1,\n",
    "  num_outputs=6,\n",
    "  kernel_size=[5, 5],\n",
    "  stride=2,\n",
    "  padding=\"same\",\n",
    "  scope='conv2')\n",
    "print(conv2)\n",
    "\n",
    "# Convolutional Layer #3\n",
    "conv3 = tf.contrib.layers.conv2d(\n",
    "  inputs=conv2,\n",
    "  num_outputs=6,\n",
    "  kernel_size=[5, 5],\n",
    "  stride=2,\n",
    "  padding=\"same\",\n",
    "  scope='conv3')\n",
    "print(conv3)\n",
    "\n",
    "# Convolutional Layer #4\n",
    "conv4 = tf.contrib.layers.conv2d(\n",
    "  inputs=conv3,\n",
    "  num_outputs=6,\n",
    "  kernel_size=[5, 5],\n",
    "  stride=2,\n",
    "  padding=\"same\",\n",
    "  scope='conv4')\n",
    "print(conv4)\n",
    "\n",
    "# Convolutional Layer #5\n",
    "conv5 = tf.contrib.layers.conv2d(\n",
    "  inputs=conv4,\n",
    "  num_outputs=6,\n",
    "  kernel_size=[5, 5],\n",
    "  stride=2,\n",
    "  padding=\"same\",\n",
    "  activation_fn=None,\n",
    "  scope='conv5')\n",
    "print(conv5)\n",
    "\n",
    "\n",
    "\n",
    "# Pooling Layer #1\n",
    "pool1 = tf.contrib.layers.max_pool2d(inputs=conv5, kernel_size=[2, 2], stride=2, scope='pool1')\n",
    "print(pool1)\n",
    "\n",
    "# The input here should be a   None x 1 x 1 x 6   tensor\n",
    "output = tf.identity(tf.contrib.layers.flatten(pool1), name='output')\n",
    "\n",
    "# Step 2: use a classification loss function (from assignment 3)\n",
    "loss = tf.reduce_mean(tf.nn.sparse_softmax_cross_entropy_with_logits(labels=labels, logits=output))\n",
    "print(loss)\n",
    "\n",
    "# Step 3: create an optimizer (from assignment 3)\n",
    "optimizer = tf.train.AdamOptimizer(0.001, 0.9, 0.999)\n",
    "print(optimizer)\n",
    "\n",
    "# Step 4: use that optimizer on your loss function (from assignment 3)\n",
    "train_op = optimizer.minimize(loss)\n",
    "#print(train_op)\n",
    "\n",
    "# Step 5: calculate some metrics\n",
    "correct = tf.equal(tf.argmax(output, 1), labels)\n",
    "accuracy = tf.reduce_mean(tf.cast(correct, tf.float32))\n",
    "\n",
    "print( \"Total number of variables used \", np.sum([v.get_shape().num_elements() for v in tf.trainable_variables()]), '/', 100000 )"
   ]
  },
  {
   "cell_type": "markdown",
   "metadata": {},
   "source": [
    "## Part 2: Training\n",
    "\n",
    "Training might take up to 20 min depending on your architecture.  This time around you should get close to 100% trianing accuracy."
   ]
  },
  {
   "cell_type": "code",
   "execution_count": 8,
   "metadata": {
    "scrolled": false
   },
   "outputs": [
    {
     "name": "stdout",
     "output_type": "stream",
     "text": [
      "Convnet\n",
      "[  0] Accuracy: 0.763  \t  Loss: 0.664\n",
      "[  1] Accuracy: 0.893  \t  Loss: 0.312\n",
      "[  2] Accuracy: 0.921  \t  Loss: 0.240\n",
      "[  3] Accuracy: 0.934  \t  Loss: 0.200\n",
      "[  4] Accuracy: 0.944  \t  Loss: 0.175\n",
      "[  5] Accuracy: 0.948  \t  Loss: 0.156\n",
      "[  6] Accuracy: 0.954  \t  Loss: 0.141\n",
      "[  7] Accuracy: 0.958  \t  Loss: 0.128\n",
      "[  8] Accuracy: 0.960  \t  Loss: 0.123\n",
      "[  9] Accuracy: 0.965  \t  Loss: 0.107\n",
      "[ 10] Accuracy: 0.965  \t  Loss: 0.104\n",
      "[ 11] Accuracy: 0.968  \t  Loss: 0.093\n",
      "[ 12] Accuracy: 0.971  \t  Loss: 0.088\n",
      "[ 13] Accuracy: 0.973  \t  Loss: 0.081\n",
      "[ 14] Accuracy: 0.971  \t  Loss: 0.083\n",
      "[ 15] Accuracy: 0.977  \t  Loss: 0.075\n",
      "[ 16] Accuracy: 0.978  \t  Loss: 0.065\n",
      "[ 17] Accuracy: 0.979  \t  Loss: 0.063\n",
      "[ 18] Accuracy: 0.977  \t  Loss: 0.067\n",
      "[ 19] Accuracy: 0.980  \t  Loss: 0.060\n"
     ]
    }
   ],
   "source": [
    "# Batch size\n",
    "BS = 32\n",
    "\n",
    "# Start a session\n",
    "sess = tf.Session()\n",
    "\n",
    "# Set up training\n",
    "sess.run(tf.global_variables_initializer())\n",
    "\n",
    "# This is a helper function that trains your model for several epochs un shuffled data\n",
    "# train_func should take a single step in the optmimzation and return accuracy and loss\n",
    "#   accuracy, loss = train_func(batch_images, batch_labels)\n",
    "# HINT: train_func should call sess.run\n",
    "def train(train_func):\n",
    "    # An epoch is a single pass over the training data\n",
    "    for epoch in range(20):\n",
    "        # Let's shuffle the data every epoch\n",
    "        np.random.seed(epoch)\n",
    "        np.random.shuffle(image_data)\n",
    "        np.random.seed(epoch)\n",
    "        np.random.shuffle(label_data)\n",
    "        # Go through the entire dataset once\n",
    "        accs, losss = [], []\n",
    "        for i in range(0, image_data.shape[0]-BS+1, BS):\n",
    "            # Train a single batch\n",
    "            batch_images, batch_labels = image_data[i:i+BS], label_data[i:i+BS]\n",
    "            acc, loss = train_func(batch_images, batch_labels)\n",
    "            accs.append(acc)\n",
    "            losss.append(loss)\n",
    "        print('[%3d] Accuracy: %0.3f  \\t  Loss: %0.3f'%(epoch, np.mean(accs), np.mean(losss)))\n",
    "\n",
    "\n",
    "# Train convnet\n",
    "print('Convnet')\n",
    "### Your Code Here (from assignment 3) ### \n",
    "def trainer(img, lbl):\n",
    "    a, l, _ = sess.run([accuracy, loss, train_op], feed_dict={inputs:img, labels:lbl}) \n",
    "    return a, l\n",
    "train(trainer)\n"
   ]
  },
  {
   "cell_type": "markdown",
   "metadata": {},
   "source": [
    "## Part 3: Evaluation"
   ]
  },
  {
   "cell_type": "markdown",
   "metadata": {},
   "source": [
    "### See your model"
   ]
  },
  {
   "cell_type": "code",
   "execution_count": null,
   "metadata": {
    "collapsed": true
   },
   "outputs": [],
   "source": [
    "# Show the current graph\n",
    "util.show_graph(tf.get_default_graph().as_graph_def())"
   ]
  },
  {
   "cell_type": "markdown",
   "metadata": {},
   "source": [
    "### Compute the valiation accuracy\n",
    "The convnet still massively overfits. We will deal with this in assignment 5."
   ]
  },
  {
   "cell_type": "code",
   "execution_count": 9,
   "metadata": {},
   "outputs": [
    {
     "name": "stdout",
     "output_type": "stream",
     "text": [
      "Input shape: (3912, 64, 64, 3)\n",
      "Labels shape: (3912,)\n",
      "ConvNet Validation Accuracy:  0.915644\n"
     ]
    }
   ],
   "source": [
    "image_val, label_val = load('tux_val.dat')\n",
    "\n",
    "print('Input shape: ' + str(image_val.shape))\n",
    "print('Labels shape: ' + str(label_val.shape))\n",
    "\n",
    "val_accuracy, val_loss = sess.run([accuracy, loss], feed_dict={inputs: image_val, labels: label_val})\n",
    "print(\"ConvNet Validation Accuracy: \", val_accuracy)"
   ]
  },
  {
   "cell_type": "markdown",
   "metadata": {},
   "source": [
    "## Part 4: Save Model\n",
    "Please note that we also want you to turn in your ipynb for this assignment.  Zip up the ipynb along with the tfg for your submission."
   ]
  },
  {
   "cell_type": "code",
   "execution_count": 10,
   "metadata": {
    "collapsed": true
   },
   "outputs": [],
   "source": [
    "util.save('assignment4.tfg', session=sess)"
   ]
  },
  {
   "cell_type": "code",
   "execution_count": null,
   "metadata": {
    "collapsed": true
   },
   "outputs": [],
   "source": []
  }
 ],
 "metadata": {
  "anaconda-cloud": {},
  "kernelspec": {
   "display_name": "Python 3",
   "language": "python",
   "name": "python3"
  },
  "language_info": {
   "codemirror_mode": {
    "name": "ipython",
    "version": 3
   },
   "file_extension": ".py",
   "mimetype": "text/x-python",
   "name": "python",
   "nbconvert_exporter": "python",
   "pygments_lexer": "ipython3",
   "version": "3.6.2"
  }
 },
 "nbformat": 4,
 "nbformat_minor": 1
}
