{
 "cells": [
  {
   "cell_type": "markdown",
   "metadata": {},
   "source": [
    "# Section 4\n",
    "\n",
    "Today:\n",
    "<ul>\n",
    "<li>Convolutions</li>\n",
    "<li>Pooling</li>\n",
    "<li>TensorBoard</li>\n",
    "</ul>\n",
    "\n",
    "<em>Some code from tensorflow.org documentation.</em>\n",
    "\n",
    "## Extra Resources\n",
    "<ul>\n",
    "<li><a href='https://www.tensorflow.org/api_docs/python/tf/name_scope'>TF Name Scoping</a></li>\n",
    "<li><a href='http://cs231n.github.io/convolutional-networks/'>CS 231n Notes on CNNs</a></li>\n",
    "</ul>\n",
    "\n",
    "## Convolutions and Pooling\n",
    "<a href='https://www.tensorflow.org/tutorials/layers'>A Guide to TF Layers: Building a Convolutional Neural Network</a><br/>\n",
    "<a href='https://www.tensorflow.org/versions/r1.3/api_docs/python/tf/layers/conv2d'>tf.layers.conv2d</a><br/>\n",
    "<a href='https://www.tensorflow.org/api_docs/python/tf/layers/max_pooling2d'>tf.layers.max_pooling2d</a><br/>"
   ]
  },
  {
   "cell_type": "code",
   "execution_count": 1,
   "metadata": {},
   "outputs": [],
   "source": [
    "# Setup and load data\n",
    "import tensorflow as tf\n",
    "import numpy as np\n",
    "\n",
    "sess = tf.Session()\n",
    "\n",
    "def load(filename, W=64, H=64):\n",
    "    data = np.fromfile(filename, dtype=np.uint8).reshape((-1, W*H*3+1))\n",
    "    images, labels = data[:, :-1].reshape((-1,H,W,3)), data[:, -1]\n",
    "    return images, labels\n",
    "\n",
    "train_image_data, train_label_data = load('tux_train.dat')\n",
    "val_image_data, val_label_data = load('tux_val.dat')"
   ]
  },
  {
   "cell_type": "code",
   "execution_count": null,
   "metadata": {
    "collapsed": true
   },
   "outputs": [],
   "source": [
    "# Let's build our first CNN\n",
    "\n",
    "\n",
    "\n"
   ]
  },
  {
   "cell_type": "markdown",
   "metadata": {},
   "source": [
    "## TensorBoard\n",
    "<a href='https://www.tensorflow.org/get_started/summaries_and_tensorboard'>TensorBoard Introduction</a><br/>\n",
    "<a href='https://www.tensorflow.org/api_guides/python/summary'>Summary variables</a><br/>\n",
    "<a href='https://www.tensorflow.org/api_docs/python/tf/summary/merge_all'>merge_all</a><br/>\n",
    "<a href='https://www.tensorflow.org/api_docs/python/tf/summary/FileWriter'>FileWriter</a><br/>\n",
    "<a href='https://research.googleblog.com/2017/09/build-your-own-machine-learning.html'>New TensorBoard API</a><br/><br/>\n",
    "Let's use the graph we used when introducing convolutions but now add summary operations so we can see the graph and monitor training.\n"
   ]
  },
  {
   "cell_type": "code",
   "execution_count": null,
   "metadata": {
    "collapsed": true
   },
   "outputs": [],
   "source": [
    "# First let's set up TensorBoard\n",
    "\n",
    "\n",
    "# Merge them together\n"
   ]
  },
  {
   "cell_type": "code",
   "execution_count": 4,
   "metadata": {},
   "outputs": [
    {
     "name": "stdout",
     "output_type": "stream",
     "text": [
      "Tensor(\"conv1/Relu:0\", shape=(?, 32, 32, 20), dtype=float32)\n",
      "Tensor(\"conv2/Relu:0\", shape=(?, 32, 32, 64), dtype=float32)\n",
      "Tensor(\"pool1/MaxPool:0\", shape=(?, 16, 16, 64), dtype=float32)\n"
     ]
    }
   ],
   "source": [
    "# Add some summary operations\n",
    "\n",
    "tf.reset_default_graph()\n",
    "\n",
    "sess = tf.Session()\n",
    "\n",
    "# Let's build our first CNN\n",
    "I = tf.placeholder(tf.float32, (None, 64, 64, 3))\n",
    "white_inputs = (I - 100.) / 72.\n",
    "labels = tf.placeholder(tf.int64, (None))\n",
    "\n",
    "# Convolutional Layer #1\n",
    "conv1 = tf.contrib.layers.conv2d(\n",
    "  inputs=white_inputs,\n",
    "  num_outputs=20,\n",
    "  kernel_size=[5, 5],\n",
    "  stride=2,\n",
    "  padding=\"same\",\n",
    "  scope='conv1')\n",
    "print(conv1)\n",
    "\n",
    "conv2 = tf.contrib.layers.conv2d(\n",
    "  inputs=white_inputs,\n",
    "  num_outputs=64,\n",
    "  kernel_size=[5, 5],\n",
    "  stride=2,\n",
    "  padding=\"same\",\n",
    "  scope='conv2')\n",
    "print(conv2)\n",
    "\n",
    "# Pooling Layer #1\n",
    "pool1 = tf.contrib.layers.max_pool2d(inputs=conv2, kernel_size=[2, 2], stride=2, scope='pool1')\n",
    "print(pool1)\n",
    "\n"
   ]
  },
  {
   "cell_type": "code",
   "execution_count": null,
   "metadata": {
    "collapsed": true
   },
   "outputs": [],
   "source": [
    "# Start TensorBoard from the command line\n",
    "# tensorboard --logidr=/tmp/section4"
   ]
  },
  {
   "cell_type": "code",
   "execution_count": null,
   "metadata": {
    "collapsed": true
   },
   "outputs": [],
   "source": [
    "# Train your network and watch it on TensorBoard\n",
    "BS = 32\n",
    "train_count = 0\n",
    "for epoch in range(20):\n",
    "    np.random.seed(epoch)\n",
    "    np.random.shuffle(train_image_data)\n",
    "    np.random.seed(epoch)\n",
    "    np.random.shuffle(train_label_data)\n",
    "    # Validation Accuracy\n",
    "    summary, acc = sess.run([merged, accuracy], feed_dict={I: val_image_data, labels: val_label_data})\n",
    "    validation_writer.add_summary(summary, train_count)\n",
    "    print('Validation accuracy at epoch %s: %s' % (epoch, acc))\n",
    "    # Train\n",
    "    # Go through the entire dataset once\n",
    "    for i in range(0, train_image_data.shape[0]-BS+1, BS):\n",
    "        # Train a single batch\n",
    "        batch_images, batch_labels = train_image_data[i:i+BS], train_label_data[i:i+BS]\n",
    "        summary, _ = sess.run([merged, train_op], feed_dict={I: batch_images, labels: batch_labels})\n",
    "        train_writer.add_summary(summary, train_count)\n",
    "        train_count += 1\n",
    "    validation_writer.flush()\n",
    "    train_writer.flush()\n",
    "    "
   ]
  }
 ],
 "metadata": {
  "anaconda-cloud": {},
  "kernelspec": {
   "display_name": "Python 3",
   "language": "python",
   "name": "python3"
  },
  "language_info": {
   "codemirror_mode": {
    "name": "ipython",
    "version": 3
   },
   "file_extension": ".py",
   "mimetype": "text/x-python",
   "name": "python",
   "nbconvert_exporter": "python",
   "pygments_lexer": "ipython3",
   "version": "3.6.2"
  }
 },
 "nbformat": 4,
 "nbformat_minor": 2
}
