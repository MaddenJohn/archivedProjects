{
 "cells": [
  {
   "cell_type": "markdown",
   "metadata": {},
   "source": [
    "# Homework 5\n",
    "In this homework you will improve your convolutional network to overfit less on supertux.\n",
    "\n",
    "Development notes: \n",
    "\n",
    "1) If you are doing your homework in a Jupyter/iPython notebook you may need to 'Restart & Clear Output' after making a change and re-running a cell.  TensorFlow will not allow you to create multiple variables with the same name, which is what you are doing when you run a cell that creates a variable twice.<br/><br/>\n",
    "2) Be careful with your calls to global_variables_initializer(). If you call it after training one network it will re-initialize your variables erasing your training.  In general, double check the outputs of your model after all training and before turning your model in. Ending a session will discard all your variable values.\n",
    "\n",
    "## Part 0: Setup"
   ]
  },
  {
   "cell_type": "code",
   "execution_count": 1,
   "metadata": {},
   "outputs": [
    {
     "name": "stdout",
     "output_type": "stream",
     "text": [
      "Input shape: (12257, 64, 64, 3)\n",
      "Labels shape: (12257,)\n"
     ]
    }
   ],
   "source": [
    "import tensorflow as tf\n",
    "import numpy as np\n",
    "import util\n",
    "\n",
    "# Load the data we are giving you\n",
    "def load(filename, W=64, H=64):\n",
    "    data = np.fromfile(filename, dtype=np.uint8).reshape((-1, W*H*3+1))\n",
    "    images, labels = data[:, :-1].reshape((-1,H,W,3)), data[:, -1]\n",
    "    return images, labels\n",
    "\n",
    "image_data, label_data = load('tux_train.dat')\n",
    "\n",
    "print('Input shape: ' + str(image_data.shape))\n",
    "print('Labels shape: ' + str(label_data.shape))\n",
    "\n",
    "num_classes = 6"
   ]
  },
  {
   "cell_type": "markdown",
   "metadata": {},
   "source": [
    "## Part 1: Define your convnet\n",
    "\n",
    "Make sure the total number of parameters is less than 100,000."
   ]
  },
  {
   "cell_type": "code",
   "execution_count": null,
   "metadata": {},
   "outputs": [
    {
     "name": "stdout",
     "output_type": "stream",
     "text": [
      "Total number of variables used  494900 / 500000\n"
     ]
    }
   ],
   "source": [
    "# Lets clear the tensorflow graph, so that you don't have to restart the notebook every time you change the network\n",
    "tf.reset_default_graph()\n",
    "\n",
    "# Set up your input placeholder\n",
    "inputs = tf.placeholder(tf.float32, (None,64,64,3))\n",
    "\n",
    "# Step 1: Augment the training data (try the following, not all might improve the performance)\n",
    "#  * mirror the image\n",
    "#  * color augmentations (keep the values to small ranges first then try to expand):\n",
    "#    - brightness\n",
    "#    - hue\n",
    "#    - saturation\n",
    "#    - contrast\n",
    "\n",
    "def data_augmentation(I):\n",
    "    # TODO: Put your data augmentation here\n",
    "    I = tf.image.random_brightness(I, 10)\n",
    "    #I = tf.image.random_saturation(I, 0.0, 10.0)\n",
    "    I = tf.image.random_flip_left_right(I)\n",
    "    #I = tf.image.random_contrast(I, 0.0, 10.0)\n",
    "    #I = tf.image.random_hue(I, 0.5)\n",
    "    return I\n",
    "\n",
    "# map_fn applies data_augmentation independently for each image in the batch, since we are not croping let's apply the augmentation before whitening, it does make evaluation easier\n",
    "aug_input = tf.map_fn(data_augmentation, inputs)\n",
    "\n",
    "# During evaluation we don't want data augmentation\n",
    "eval_inputs = tf.identity(aug_input, name='inputs')\n",
    "\n",
    "# Whenever you deal with image data it's important to mean center it first and subtract the standard deviation\n",
    "white_inputs = (eval_inputs - 100.) / 72.\n",
    "\n",
    "\n",
    "# Set up your label placeholders\n",
    "labels = tf.placeholder(tf.int64, (None), name='labels')\n",
    "\n",
    "outputs = []\n",
    "losses = []\n",
    "\n",
    "# Step 4: Define multiple models in your ensemble. You should train an ensemble of 5 models.\n",
    "# Let's put all variables in a scope, this makes training ensembles easier. Make sure each model in your ensemble has it's own scope and produces an output and loss\n",
    "with tf.name_scope('model1'), tf.variable_scope('model1'):\n",
    "    # Step 2: define the compute graph of your CNN here (use your solution to HW4 here)\n",
    "    #   Add weight regularization (l2-loss)  \n",
    "    h = tf.contrib.layers.conv2d(white_inputs, 19, (5,5), stride=2, scope=\"conv1\", weights_regularizer=tf.nn.l2_loss)\n",
    "    h = tf.layers.dropout(h)\n",
    "    h = tf.contrib.layers.conv2d(h, 30, (5,5), stride=2, scope=\"conv2\", weights_regularizer=tf.nn.l2_loss)\n",
    "    h = tf.layers.dropout(h)\n",
    "    h = tf.contrib.layers.conv2d(h, 50, (5,5), stride=2, scope=\"conv3\", weights_regularizer=tf.nn.l2_loss)\n",
    "    h = tf.layers.dropout(h)\n",
    "    h = tf.contrib.layers.conv2d(h, 100, (3,3), stride=2, scope=\"conv4\", weights_regularizer=tf.nn.l2_loss)\n",
    "    h = tf.layers.dropout(h)\n",
    "    h = tf.contrib.layers.max_pool2d(h, (3,3), stride=2, scope=\"pool\")\n",
    "    h = tf.contrib.layers.conv2d(h, 6, (1,1), stride=2, activation_fn=None, scope=\"conv5\", weights_regularizer=tf.nn.l2_loss)\n",
    "    # The input 'h' here should be a   None x 1 x 1 x 6   tensor\n",
    "    h = tf.contrib.layers.flatten(h)\n",
    "\n",
    "    loss = tf.reduce_mean(tf.nn.sparse_softmax_cross_entropy_with_logits(logits=h, labels=labels))\n",
    "    outputs.append(h)\n",
    "    losses.append(loss)\n",
    "    \n",
    "#\"\"\"\n",
    "with tf.name_scope('model2'), tf.variable_scope('model2'):\n",
    "    # Step 2: define the compute graph of your CNN here (use your solution to HW4 here)\n",
    "    #   Add weight regularization (l2-loss)  \n",
    "    h = tf.contrib.layers.conv2d(white_inputs, 19, (5,5), stride=2, scope=\"conv1\", weights_regularizer=tf.nn.l2_loss)\n",
    "    h = tf.layers.dropout(h)\n",
    "    h = tf.contrib.layers.conv2d(h, 30, (5,5), stride=2, scope=\"conv2\", weights_regularizer=tf.nn.l2_loss)\n",
    "    h = tf.layers.dropout(h)\n",
    "    h = tf.contrib.layers.conv2d(h, 50, (5,5), stride=2, scope=\"conv3\", weights_regularizer=tf.nn.l2_loss)\n",
    "    h = tf.layers.dropout(h)\n",
    "    h = tf.contrib.layers.conv2d(h, 100, (3,3), stride=2, scope=\"conv4\", weights_regularizer=tf.nn.l2_loss)\n",
    "    h = tf.layers.dropout(h)\n",
    "    h = tf.contrib.layers.max_pool2d(h, (3,3), stride=2, scope=\"pool\")\n",
    "    h = tf.contrib.layers.conv2d(h, 6, (1,1), stride=2, activation_fn=None, scope=\"conv5\", weights_regularizer=tf.nn.l2_loss)\n",
    "    # The input 'h' here should be a   None x 1 x 1 x 6   tensor\n",
    "    h = tf.contrib.layers.flatten(h)\n",
    "\n",
    "    loss = tf.reduce_mean(tf.nn.sparse_softmax_cross_entropy_with_logits(logits=h, labels=labels))\n",
    "    outputs.append(h)\n",
    "    losses.append(loss)\n",
    "    \n",
    "with tf.name_scope('model3'), tf.variable_scope('model3'):\n",
    "    # Step 2: define the compute graph of your CNN here (use your solution to HW4 here)\n",
    "    #   Add weight regularization (l2-loss)  \n",
    "    h = tf.contrib.layers.conv2d(white_inputs, 19, (5,5), stride=2, scope=\"conv1\", weights_regularizer=tf.nn.l2_loss)\n",
    "    h = tf.layers.dropout(h)\n",
    "    h = tf.contrib.layers.conv2d(h, 30, (5,5), stride=2, scope=\"conv2\", weights_regularizer=tf.nn.l2_loss)\n",
    "    h = tf.layers.dropout(h)\n",
    "    h = tf.contrib.layers.conv2d(h, 50, (5,5), stride=2, scope=\"conv3\", weights_regularizer=tf.nn.l2_loss)\n",
    "    h = tf.layers.dropout(h)\n",
    "    h = tf.contrib.layers.conv2d(h, 100, (3,3), stride=2, scope=\"conv4\", weights_regularizer=tf.nn.l2_loss)\n",
    "    h = tf.layers.dropout(h)\n",
    "    h = tf.contrib.layers.max_pool2d(h, (3,3), stride=2, scope=\"pool\")\n",
    "    h = tf.contrib.layers.conv2d(h, 6, (1,1), stride=2, activation_fn=None, scope=\"conv5\", weights_regularizer=tf.nn.l2_loss)\n",
    "    # The input 'h' here should be a   None x 1 x 1 x 6   tensor\n",
    "    h = tf.contrib.layers.flatten(h)\n",
    "\n",
    "    loss = tf.reduce_mean(tf.nn.sparse_softmax_cross_entropy_with_logits(logits=h, labels=labels))\n",
    "    outputs.append(h)\n",
    "    losses.append(loss)\n",
    "    \n",
    "with tf.name_scope('model4'), tf.variable_scope('model4'):\n",
    "    # Step 2: define the compute graph of your CNN here (use your solution to HW4 here)\n",
    "    #   Add weight regularization (l2-loss)  \n",
    "    h = tf.contrib.layers.conv2d(white_inputs, 19, (5,5), stride=2, scope=\"conv1\", weights_regularizer=tf.nn.l2_loss)\n",
    "    h = tf.layers.dropout(h)\n",
    "    h = tf.contrib.layers.conv2d(h, 30, (5,5), stride=2, scope=\"conv2\", weights_regularizer=tf.nn.l2_loss)\n",
    "    h = tf.layers.dropout(h)\n",
    "    h = tf.contrib.layers.conv2d(h, 50, (5,5), stride=2, scope=\"conv3\", weights_regularizer=tf.nn.l2_loss)\n",
    "    h = tf.layers.dropout(h)\n",
    "    h = tf.contrib.layers.conv2d(h, 100, (3,3), stride=2, scope=\"conv4\", weights_regularizer=tf.nn.l2_loss)\n",
    "    h = tf.layers.dropout(h)\n",
    "    h = tf.contrib.layers.max_pool2d(h, (3,3), stride=2, scope=\"pool\")\n",
    "    h = tf.contrib.layers.conv2d(h, 6, (1,1), stride=2, activation_fn=None, scope=\"conv5\", weights_regularizer=tf.nn.l2_loss)\n",
    "    # The input 'h' here should be a   None x 1 x 1 x 6   tensor\n",
    "    h = tf.contrib.layers.flatten(h)\n",
    "\n",
    "    loss = tf.reduce_mean(tf.nn.sparse_softmax_cross_entropy_with_logits(logits=h, labels=labels))\n",
    "    outputs.append(h)\n",
    "    losses.append(loss)\n",
    "    \n",
    "with tf.name_scope('model5'), tf.variable_scope('model5'):\n",
    "    # Step 2: define the compute graph of your CNN here (use your solution to HW4 here)\n",
    "    #   Add weight regularization (l2-loss)  \n",
    "    h = tf.contrib.layers.conv2d(white_inputs, 19, (5,5), stride=2, scope=\"conv1\", weights_regularizer=tf.nn.l2_loss)\n",
    "    h = tf.layers.dropout(h)\n",
    "    h = tf.contrib.layers.conv2d(h, 30, (5,5), stride=2, scope=\"conv2\", weights_regularizer=tf.nn.l2_loss)\n",
    "    h = tf.layers.dropout(h)\n",
    "    h = tf.contrib.layers.conv2d(h, 50, (5,5), stride=2, scope=\"conv3\", weights_regularizer=tf.nn.l2_loss)\n",
    "    h = tf.layers.dropout(h)\n",
    "    h = tf.contrib.layers.conv2d(h, 100, (3,3), stride=2, scope=\"conv4\", weights_regularizer=tf.nn.l2_loss)\n",
    "    h = tf.layers.dropout(h)\n",
    "    h = tf.contrib.layers.max_pool2d(h, (3,3), stride=2, scope=\"pool\")\n",
    "    h = tf.contrib.layers.conv2d(h, 6, (1,1), stride=2, activation_fn=None, scope=\"conv5\", weights_regularizer=tf.nn.l2_loss)\n",
    "    # The input 'h' here should be a   None x 1 x 1 x 6   tensor\n",
    "    h = tf.contrib.layers.flatten(h)\n",
    "\n",
    "    loss = tf.reduce_mean(tf.nn.sparse_softmax_cross_entropy_with_logits(logits=h, labels=labels))\n",
    "    outputs.append(h)\n",
    "    losses.append(loss)\n",
    "#\"\"\"\n",
    "\n",
    "\n",
    "output = tf.add_n(outputs, name='output')\n",
    "\n",
    "# Sum up all the losses\n",
    "loss = tf.add_n(losses)\n",
    "regularization_loss = tf.losses.get_regularization_loss()\n",
    "# Let's weight the regularization loss down, otherwise it will hurt the model performance\n",
    "# You can tune this weight if you wish\n",
    "total_loss = loss + 1e-6 * regularization_loss\n",
    "\n",
    "# create an optimizer: Adam might work slightly better (it's a bit faster for Tux)\n",
    "optimizer = tf.train.AdamOptimizer(0.0005, 0.9, 0.999)\n",
    "\n",
    "# use that optimizer on your loss function\n",
    "opt = optimizer.minimize(total_loss)\n",
    "correct = tf.equal(tf.argmax(output, 1), labels)\n",
    "accuracy = tf.reduce_mean(tf.cast(correct, tf.float32))\n",
    "\n",
    "# You're allowed to use 500k variables this time, 100k per model in your ensemble.\n",
    "print( \"Total number of variables used \", np.sum([v.get_shape().num_elements() for v in tf.trainable_variables()]), '/', 500000 )"
   ]
  },
  {
   "cell_type": "markdown",
   "metadata": {},
   "source": [
    "## Part 2: Training\n",
    "\n",
    "Training might take up to 20 min depending on your architecture.  This time around you should get close to 100% training accuracy."
   ]
  },
  {
   "cell_type": "code",
   "execution_count": null,
   "metadata": {
    "scrolled": false
   },
   "outputs": [
    {
     "name": "stdout",
     "output_type": "stream",
     "text": [
      "[  0] Accuracy: 0.853  \t  Loss: 2.338  \t  validation accuracy: 0.913\n",
      "[  1] Accuracy: 0.956  \t  Loss: 0.895  \t  validation accuracy: 0.916\n",
      "[  2] Accuracy: 0.972  \t  Loss: 0.614  \t  validation accuracy: 0.931\n"
     ]
    }
   ],
   "source": [
    "image_val, label_val = load('tux_val.dat')\n",
    "\n",
    "# Batch size\n",
    "BS = 32\n",
    "\n",
    "# Start a session\n",
    "sess = tf.Session()\n",
    "\n",
    "# Set up training\n",
    "sess.run(tf.global_variables_initializer())\n",
    "\n",
    "# Train convnet\n",
    "# Step 3: You should tune the number of epochs to maximize validation accuracy, you can either do this by hand or automate the process.\n",
    "for epoch in range(50):\n",
    "    # Let's shuffle the data every epoch\n",
    "    np.random.seed(epoch)\n",
    "    np.random.shuffle(image_data)\n",
    "    np.random.seed(epoch)\n",
    "    np.random.shuffle(label_data)\n",
    "    # Go through the entire dataset once\n",
    "    accuracy_vals, loss_vals = [], []\n",
    "    for i in range(0, image_data.shape[0]-BS+1, BS):\n",
    "        # Train a single batch\n",
    "        batch_images, batch_labels = image_data[i:i+BS], label_data[i:i+BS]\n",
    "        accuracy_val, loss_val, _ = sess.run([accuracy, total_loss, opt], feed_dict={inputs: batch_images, labels: batch_labels})\n",
    "        accuracy_vals.append(accuracy_val)\n",
    "        loss_vals.append(loss_val)\n",
    "\n",
    "    val_correct = []\n",
    "    for i in range(0, image_val.shape[0], BS):\n",
    "        batch_images, batch_labels = image_val[i:i+BS], label_val[i:i+BS]\n",
    "        val_correct.extend( sess.run(correct, feed_dict={eval_inputs: batch_images, labels: batch_labels}) )\n",
    "    print('[%3d] Accuracy: %0.3f  \\t  Loss: %0.3f  \\t  validation accuracy: %0.3f'%(epoch, np.mean(accuracy_vals), np.mean(loss_vals), np.mean(val_correct)))\n",
    "    if (np.mean(val_correct) > 0.98):\n",
    "        break"
   ]
  },
  {
   "cell_type": "markdown",
   "metadata": {},
   "source": [
    "## Part 3: Evaluation"
   ]
  },
  {
   "cell_type": "markdown",
   "metadata": {},
   "source": [
    "### Compute the valiation accuracy"
   ]
  },
  {
   "cell_type": "code",
   "execution_count": null,
   "metadata": {},
   "outputs": [],
   "source": [
    "image_val, label_val = load('tux_val.dat')\n",
    "\n",
    "print('Input shape: ' + str(image_val.shape))\n",
    "print('Labels shape: ' + str(label_val.shape))\n",
    "\n",
    "val_correct = []\n",
    "for i in range(0, image_val.shape[0], BS):\n",
    "    batch_images, batch_labels = image_val[i:i+BS], label_val[i:i+BS]\n",
    "    val_correct.extend( sess.run(correct, feed_dict={eval_inputs: batch_images, labels: batch_labels}) )\n",
    "print(\"ConvNet Validation Accuracy: \", np.mean(val_correct))"
   ]
  },
  {
   "cell_type": "markdown",
   "metadata": {},
   "source": [
    "## Part 4: Save Model\n",
    "Please note that we also want you to turn in your ipynb for this assignment.  Zip up the ipynb along with the tfg for your submission."
   ]
  },
  {
   "cell_type": "code",
   "execution_count": null,
   "metadata": {
    "collapsed": true
   },
   "outputs": [],
   "source": [
    "util.save('assignment5.tfg', session=sess)"
   ]
  },
  {
   "cell_type": "markdown",
   "metadata": {},
   "source": [
    "### Part 5 (optional): See your model"
   ]
  },
  {
   "cell_type": "code",
   "execution_count": null,
   "metadata": {},
   "outputs": [],
   "source": [
    "# Show the current graph\n",
    "util.show_graph(tf.get_default_graph().as_graph_def())"
   ]
  },
  {
   "cell_type": "code",
   "execution_count": null,
   "metadata": {
    "collapsed": true
   },
   "outputs": [],
   "source": []
  }
 ],
 "metadata": {
  "anaconda-cloud": {},
  "kernelspec": {
   "display_name": "Python 3",
   "language": "python",
   "name": "python3"
  },
  "language_info": {
   "codemirror_mode": {
    "name": "ipython",
    "version": 3
   },
   "file_extension": ".py",
   "mimetype": "text/x-python",
   "name": "python",
   "nbconvert_exporter": "python",
   "pygments_lexer": "ipython3",
   "version": "3.6.2"
  }
 },
 "nbformat": 4,
 "nbformat_minor": 1
}
