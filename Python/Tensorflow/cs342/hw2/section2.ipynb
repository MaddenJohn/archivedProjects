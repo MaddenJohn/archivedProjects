{
 "cells": [
  {
   "cell_type": "markdown",
   "metadata": {},
   "source": [
    "# Section 2\n",
    "\n",
    "## Topics\n",
    "<ul>\n",
    "<li>TensorFlow Sessions</li>\n",
    "<li>Feeding data to TF Graph</li>\n",
    "<li>Graph Outputs</li>\n",
    "<li>Loss Functions</li>\n",
    "<li>Optimizers</li>\n",
    "</ul>\n",
    "<br/>\n",
    "<i>Some code samples and quotes from tensorflow.org documentation.</i>\n",
    "<br/>\n",
    "## TensorFlow Sessions\n",
    "\"A Session object encapsulates the environment in which Operation objects are executed, and Tensor objects are evaluated.\"\n",
    "\n",
    "1) Create the session <br/>\n",
    "2) Initialize variables if you need to (we don't for now and will return to this later). <br/>\n",
    "3) Run one or more operations in your graph. <br/>"
   ]
  },
  {
   "cell_type": "code",
   "execution_count": 1,
   "metadata": {},
   "outputs": [
    {
     "name": "stdout",
     "output_type": "stream",
     "text": [
      "Style 1 output: 30.0\n",
      "Style 2 output: 30.0\n"
     ]
    }
   ],
   "source": [
    "import tensorflow as tf\n",
    "\n",
    "# Build a graph.\n",
    "a = tf.constant(5.0)\n",
    "b = tf.constant(6.0)\n",
    "c = a * b\n",
    "\n",
    "# STYLE 1: Keep a handle to the tf.Session() object and keep it forever.\n",
    "# Launch the graph in a session.\n",
    "sess = tf.Session()\n",
    "# Evaluate the tensor `c`.\n",
    "print('Style 1 output: ' + str(sess.run(c)))\n",
    "# Remember to close the session when you are done with it.\n",
    "sess.close()\n",
    "\n",
    "# STYLE 2: Do all your computation within a python with block.\n",
    "with tf.Session() as sess:\n",
    "    print('Style 2 output: ' + str(sess.run(c)))"
   ]
  },
  {
   "cell_type": "markdown",
   "metadata": {},
   "source": [
    "## Feeding Data to TensorFlow Graph\n",
    "Now we will create a graph that accepts inputs and pass these into our graph with a TensorFlow Session.<br/>\n",
    "\n",
    "Data flows into a TF Graph through placeholders."
   ]
  },
  {
   "cell_type": "code",
   "execution_count": 2,
   "metadata": {},
   "outputs": [
    {
     "name": "stdout",
     "output_type": "stream",
     "text": [
      "Style 1 output: [ 0.14236929  0.29745367  0.0892252   0.53928107  0.11020289]\n",
      "Style 2 output: [ 0.14236929  0.29745367  0.0892252   0.53928107  0.11020289]\n"
     ]
    }
   ],
   "source": [
    "# Create two placeholders that take any sized arrays.\n",
    "inputs1 = tf.placeholder(tf.float32, shape=(None), name='inputs1')\n",
    "inputs2 = tf.placeholder(tf.float32, shape=(None), name='inputs2')\n",
    "\n",
    "# Create a graph that multiplies each of these element-wise.\n",
    "outputs = tf.multiply(inputs1, inputs2)\n",
    "\n",
    "# Before we just used constants but now we need our own data to pass in.\n",
    "# Let's create some random data values using numpy.\n",
    "import numpy as np\n",
    "\n",
    "samples = 5\n",
    "inputs1_data = np.random.rand(samples)\n",
    "inputs2_data = np.random.rand(samples)\n",
    "\n",
    "# We pass this data into the graph through a feed_dict (a.k.a. feed dictionary)\n",
    "# feed dictionaries map placeholders to the data you are passing to them\n",
    "feed_dict={inputs1: inputs1_data, inputs2: inputs2_data}\n",
    "\n",
    "# We then start a session and run the output operation in our new graph with the feed_dict that will pass data into it.\n",
    "with tf.Session() as sess:\n",
    "    out = sess.run(outputs, feed_dict)\n",
    "    print('Style 1 output: ' + str(out))\n",
    "    \n",
    "# Or more cleanly (and more commonly used)\n",
    "with tf.Session() as sess:\n",
    "    out = sess.run(outputs, feed_dict={inputs1: inputs1_data, inputs2: inputs2_data})\n",
    "    print('Style 2 output: ' + str(out))\n",
    "    \n",
    "# Congrats!  You just fed your own data into a TensorFlow Graph and computed some output"
   ]
  },
  {
   "cell_type": "markdown",
   "metadata": {},
   "source": [
    "## Graph Outputs\n",
    "So far every graph we have looked at has a single output.  TensorFlow is much more powerful than that. <br/>\n",
    "\n",
    "You can have multiple outputs"
   ]
  },
  {
   "cell_type": "code",
   "execution_count": 3,
   "metadata": {},
   "outputs": [
    {
     "name": "stdout",
     "output_type": "stream",
     "text": [
      "\n",
      "Input Data:\n",
      "[ 0.19161177  0.84103391  0.14637289  0.06686248  0.37977766]\n",
      "\n",
      "Result of multiplying by 2:\n",
      "[ 0.38322353  1.68206787  0.29274577  0.13372496  0.75955534]\n",
      "\n",
      "Result of adding 5:\n",
      "[ 5.19161177  5.84103394  5.1463728   5.06686258  5.37977791]\n",
      "\n"
     ]
    }
   ],
   "source": [
    "inputs = tf.placeholder(tf.float32, (None), name='inputs')\n",
    "output1 = tf.multiply(inputs, 2)\n",
    "output2 = tf.add(inputs, 5)\n",
    "num_samples = 5\n",
    "\n",
    "with tf.Session() as sess:\n",
    "    input_data = np.random.rand(num_samples)\n",
    "    [out1, out2] = sess.run([output1, output2], feed_dict={inputs: input_data})\n",
    "    print('\\nInput Data:\\n' + str(input_data) + '\\n')\n",
    "    print('Result of multiplying by 2:\\n' + str(out1) + '\\n')\n",
    "    print('Result of adding 5:\\n' + str(out2) + '\\n')"
   ]
  },
  {
   "cell_type": "code",
   "execution_count": 4,
   "metadata": {},
   "outputs": [
    {
     "data": {
      "text/html": [
       "\n",
       "        <iframe seamless style=\"width:1200px;height:620px;border:0\" srcdoc=\"\n",
       "        <script>\n",
       "          function load() {\n",
       "            document.getElementById(&quot;graph0.5408238592939559&quot;).pbtxt = 'node {\\n  name: &quot;Const&quot;\\n  op: &quot;Const&quot;\\n  attr {\\n    key: &quot;dtype&quot;\\n    value {\\n      type: DT_FLOAT\\n    }\\n  }\\n  attr {\\n    key: &quot;value&quot;\\n    value {\\n      tensor {\\n        dtype: DT_FLOAT\\n        tensor_shape {\\n        }\\n        float_val: 5.0\\n      }\\n    }\\n  }\\n}\\nnode {\\n  name: &quot;Const_1&quot;\\n  op: &quot;Const&quot;\\n  attr {\\n    key: &quot;dtype&quot;\\n    value {\\n      type: DT_FLOAT\\n    }\\n  }\\n  attr {\\n    key: &quot;value&quot;\\n    value {\\n      tensor {\\n        dtype: DT_FLOAT\\n        tensor_shape {\\n        }\\n        float_val: 6.0\\n      }\\n    }\\n  }\\n}\\nnode {\\n  name: &quot;mul&quot;\\n  op: &quot;Mul&quot;\\n  input: &quot;Const&quot;\\n  input: &quot;Const_1&quot;\\n  attr {\\n    key: &quot;T&quot;\\n    value {\\n      type: DT_FLOAT\\n    }\\n  }\\n}\\nnode {\\n  name: &quot;inputs1&quot;\\n  op: &quot;Placeholder&quot;\\n  attr {\\n    key: &quot;dtype&quot;\\n    value {\\n      type: DT_FLOAT\\n    }\\n  }\\n  attr {\\n    key: &quot;shape&quot;\\n    value {\\n      shape {\\n        unknown_rank: true\\n      }\\n    }\\n  }\\n}\\nnode {\\n  name: &quot;inputs2&quot;\\n  op: &quot;Placeholder&quot;\\n  attr {\\n    key: &quot;dtype&quot;\\n    value {\\n      type: DT_FLOAT\\n    }\\n  }\\n  attr {\\n    key: &quot;shape&quot;\\n    value {\\n      shape {\\n        unknown_rank: true\\n      }\\n    }\\n  }\\n}\\nnode {\\n  name: &quot;Mul&quot;\\n  op: &quot;Mul&quot;\\n  input: &quot;inputs1&quot;\\n  input: &quot;inputs2&quot;\\n  attr {\\n    key: &quot;T&quot;\\n    value {\\n      type: DT_FLOAT\\n    }\\n  }\\n}\\nnode {\\n  name: &quot;inputs&quot;\\n  op: &quot;Placeholder&quot;\\n  attr {\\n    key: &quot;dtype&quot;\\n    value {\\n      type: DT_FLOAT\\n    }\\n  }\\n  attr {\\n    key: &quot;shape&quot;\\n    value {\\n      shape {\\n        unknown_rank: true\\n      }\\n    }\\n  }\\n}\\nnode {\\n  name: &quot;Mul_1/y&quot;\\n  op: &quot;Const&quot;\\n  attr {\\n    key: &quot;dtype&quot;\\n    value {\\n      type: DT_FLOAT\\n    }\\n  }\\n  attr {\\n    key: &quot;value&quot;\\n    value {\\n      tensor {\\n        dtype: DT_FLOAT\\n        tensor_shape {\\n        }\\n        float_val: 2.0\\n      }\\n    }\\n  }\\n}\\nnode {\\n  name: &quot;Mul_1&quot;\\n  op: &quot;Mul&quot;\\n  input: &quot;inputs&quot;\\n  input: &quot;Mul_1/y&quot;\\n  attr {\\n    key: &quot;T&quot;\\n    value {\\n      type: DT_FLOAT\\n    }\\n  }\\n}\\nnode {\\n  name: &quot;Add/y&quot;\\n  op: &quot;Const&quot;\\n  attr {\\n    key: &quot;dtype&quot;\\n    value {\\n      type: DT_FLOAT\\n    }\\n  }\\n  attr {\\n    key: &quot;value&quot;\\n    value {\\n      tensor {\\n        dtype: DT_FLOAT\\n        tensor_shape {\\n        }\\n        float_val: 5.0\\n      }\\n    }\\n  }\\n}\\nnode {\\n  name: &quot;Add&quot;\\n  op: &quot;Add&quot;\\n  input: &quot;inputs&quot;\\n  input: &quot;Add/y&quot;\\n  attr {\\n    key: &quot;T&quot;\\n    value {\\n      type: DT_FLOAT\\n    }\\n  }\\n}\\n';\n",
       "          }\n",
       "        </script>\n",
       "        <link rel=&quot;import&quot; href=&quot;https://tensorboard.appspot.com/tf-graph-basic.build.html&quot; onload=load()>\n",
       "        <div style=&quot;height:600px&quot;>\n",
       "          <tf-graph-basic id=&quot;graph0.5408238592939559&quot;></tf-graph-basic>\n",
       "        </div>\n",
       "    \"></iframe>\n",
       "    "
      ],
      "text/plain": [
       "<IPython.core.display.HTML object>"
      ]
     },
     "metadata": {},
     "output_type": "display_data"
    }
   ],
   "source": [
    "from IPython.display import clear_output, Image, display, HTML\n",
    "\n",
    "def strip_consts(graph_def, max_const_size=32):\n",
    "    \"\"\"Strip large constant values from graph_def.\"\"\"\n",
    "    strip_def = tf.GraphDef()\n",
    "    for n0 in graph_def.node:\n",
    "        n = strip_def.node.add() \n",
    "        n.MergeFrom(n0)\n",
    "        if n.op == 'Const':\n",
    "            tensor = n.attr['value'].tensor\n",
    "            size = len(tensor.tensor_content)\n",
    "            if size > max_const_size:\n",
    "                tensor.tensor_content = \"<stripped %d bytes>\"%size\n",
    "    return strip_def\n",
    "\n",
    "def show_graph(graph_def, max_const_size=32):\n",
    "    \"\"\"Visualize TensorFlow graph.\"\"\"\n",
    "    if hasattr(graph_def, 'as_graph_def'):\n",
    "        graph_def = graph_def.as_graph_def()\n",
    "    strip_def = strip_consts(graph_def, max_const_size=max_const_size)\n",
    "    code = \"\"\"\n",
    "        <script>\n",
    "          function load() {{\n",
    "            document.getElementById(\"{id}\").pbtxt = {data};\n",
    "          }}\n",
    "        </script>\n",
    "        <link rel=\"import\" href=\"https://tensorboard.appspot.com/tf-graph-basic.build.html\" onload=load()>\n",
    "        <div style=\"height:600px\">\n",
    "          <tf-graph-basic id=\"{id}\"></tf-graph-basic>\n",
    "        </div>\n",
    "    \"\"\".format(data=repr(str(strip_def)), id='graph'+str(np.random.rand()))\n",
    "\n",
    "    iframe = \"\"\"\n",
    "        <iframe seamless style=\"width:1200px;height:620px;border:0\" srcdoc=\"{}\"></iframe>\n",
    "    \"\"\".format(code.replace('\"', '&quot;'))\n",
    "    display(HTML(iframe))\n",
    "    \n",
    "# Show the current graph\n",
    "show_graph(tf.get_default_graph().as_graph_def())"
   ]
  },
  {
   "cell_type": "markdown",
   "metadata": {},
   "source": [
    "You can also grab any operation in the 'middle' of your graph and run it."
   ]
  },
  {
   "cell_type": "code",
   "execution_count": 5,
   "metadata": {},
   "outputs": [
    {
     "name": "stdout",
     "output_type": "stream",
     "text": [
      "10 * 2 = 20\n",
      "10 * 2 + 3 = 23\n",
      "(10 * 2 + 3) ^ 2 = 529\n",
      "(10 * 2 + 3) ^ 2 - 5 = 524\n",
      "\n",
      "Mix-and-match: [20, 524]\n"
     ]
    }
   ],
   "source": [
    "inputs = tf.constant(10)\n",
    "multiplied = tf.multiply(inputs, 2)\n",
    "added = tf.add(multiplied, 3)\n",
    "squared = tf.pow(added, 2)\n",
    "output = tf.subtract(squared, 5)\n",
    "\n",
    "with tf.Session() as sess:\n",
    "    print('10 * 2 = ' + str(sess.run(multiplied)))\n",
    "    print('10 * 2 + 3 = ' + str(sess.run(added)))\n",
    "    print('(10 * 2 + 3) ^ 2 = ' + str(sess.run(squared)))\n",
    "    print('(10 * 2 + 3) ^ 2 - 5 = ' + str(sess.run(output)))\n",
    "    \n",
    "# Mix-and-match any set of operations in your graph that you want to run.\n",
    "print('\\nMix-and-match: ' + str(tf.Session().run([multiplied, output])))"
   ]
  },
  {
   "cell_type": "markdown",
   "metadata": {},
   "source": [
    "As your graphs get more complicated you will have all sorts of ops that you pass to sess.run(...)\n",
    "<ul>\n",
    "<li>Output values</li>\n",
    "<li>Metrics (ex: accuracy)</li>\n",
    "<li>Learning rate</li>\n",
    "<li>etc.</li>\n",
    "</ul>\n",
    "\n",
    "## Loss Functions\n",
    "Moving past simple, hard-coded graphs we want to be able to train a graph with a dataset.  Many of your models will be trained by specifying the structure of the network, a loss function, a dataset, and an optimizer that updates the model parameters based on that dataset.\n",
    "\n",
    "Tensorflow has many loss functions built-in to make them easy to use.<br/>\n",
    "<a href='https://www.tensorflow.org/api_docs/python/tf/losses'>TensorFlow Loss Functions</a>"
   ]
  },
  {
   "cell_type": "code",
   "execution_count": 6,
   "metadata": {},
   "outputs": [
    {
     "name": "stdout",
     "output_type": "stream",
     "text": [
      "<tf.Variable 'weights:0' shape=(1, 2) dtype=float32_ref>\n",
      "Tensor(\"MatMul:0\", shape=(1, 1), dtype=float32)\n",
      "Tensor(\"Reshape_2:0\", shape=(1,), dtype=float32)\n"
     ]
    }
   ],
   "source": [
    "# Using a TF Loss Function\n",
    "input_dim = 2\n",
    "output_dim = 1\n",
    "inputs = tf.placeholder(tf.float32, (input_dim, 1))\n",
    "labels = tf.placeholder(tf.float32, (output_dim, 1))\n",
    "# Create some random initial parameter values\n",
    "weights = tf.Variable(tf.random_normal([output_dim, input_dim], stddev=0.35),\n",
    "                      name=\"weights\")\n",
    "print(weights)\n",
    "\n",
    "# y = Wx\n",
    "logits = tf.matmul(weights, inputs)\n",
    "print(logits)\n",
    "\n",
    "# Create the loss function\n",
    "loss = tf.nn.softmax_cross_entropy_with_logits(labels=labels, logits=logits)\n",
    "print(loss)"
   ]
  },
  {
   "cell_type": "markdown",
   "metadata": {},
   "source": [
    "## Optimizer\n",
    "We have a loss function now which tells us how well we are doing but no way of updating our weights to make our model any better.  Introduce an optimizer.  Optimizers make changes to the weights in your model in a direction that should improve the prediction for the next data point.  See <a href='http://ruder.io/optimizing-gradient-descent/'>this</a> blog post on different gradient based optimizers.\n",
    "\n",
    "TensorFlow has several built-in optimizers you can use.<br/>\n",
    "<a href='https://www.tensorflow.org/api_guides/python/train'>TensorFlow Optimizers</a>\n",
    "\n",
    "Let's set up the momentum optimizer to work with our model."
   ]
  },
  {
   "cell_type": "code",
   "execution_count": 10,
   "metadata": {},
   "outputs": [
    {
     "name": "stdout",
     "output_type": "stream",
     "text": [
      "[[ 0.49303384]\n",
      " [ 0.85338054]]  jn  [[ 1.]]\n",
      "[[-0.05060205 -0.02471533]]\n"
     ]
    }
   ],
   "source": [
    "optimizer = tf.train.MomentumOptimizer(0.1, 0.9) # 0.1 is the learning rate, 0.9 is the momentum term\n",
    "minimizer = optimizer.minimize(loss)\n",
    "\n",
    "# Toy Dataset\n",
    "samples = 20\n",
    "input_data = np.random.rand(input_dim, 1)\n",
    "label_data = np.ones((output_dim, 1))\n",
    "print(input_data, \" jn \", label_data)\n",
    "\n",
    "# Create out session\n",
    "sess = tf.Session()\n",
    "\n",
    "# Now we have variables to initialize\n",
    "sess.run(tf.global_variables_initializer())\n",
    "\n",
    "_, weight_out = sess.run([minimizer, weights], feed_dict={inputs: input_data, labels: label_data})\n",
    "print(weight_out) \n",
    "sess.close()"
   ]
  },
  {
   "cell_type": "code",
   "execution_count": null,
   "metadata": {
    "collapsed": true
   },
   "outputs": [],
   "source": []
  }
 ],
 "metadata": {
  "anaconda-cloud": {},
  "kernelspec": {
   "display_name": "Python 3",
   "language": "python",
   "name": "python3"
  },
  "language_info": {
   "codemirror_mode": {
    "name": "ipython",
    "version": 3
   },
   "file_extension": ".py",
   "mimetype": "text/x-python",
   "name": "python",
   "nbconvert_exporter": "python",
   "pygments_lexer": "ipython3",
   "version": "3.6.2"
  }
 },
 "nbformat": 4,
 "nbformat_minor": 1
}
