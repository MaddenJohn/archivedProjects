{
 "cells": [
  {
   "cell_type": "markdown",
   "metadata": {},
   "source": [
    "# Section 6\n",
    "\n",
    "Today\n",
    "<ul>\n",
    "<li>Creating Lots of Layers</li>\n",
    "<li><a href='https://www.tensorflow.org/api_docs/python/tf/layers/batch_normalization'>TF Batch Normalization</a> -- <a href='https://arxiv.org/pdf/1502.03167.pdf'>Batch Normalization Paper</a></li>\n",
    "<li><a href='https://www.tensorflow.org/api_guides/python/framework#Graph_collections'>Collections</a> -- <a href='https://www.tensorflow.org/api_docs/python/tf/get_collection'>get_collections</a></li>\n",
    "<li><a href='https://www.tensorflow.org/api_docs/python/tf/GraphKeys'>Graph Keys</a></li>\n",
    "<li><a href='https://www.tensorflow.org/api_docs/python/tf/control_dependencies'>Control Dependencies</a></li>\n",
    "</ul>\n",
    "\n",
    "## Creating Lots of Layers"
   ]
  },
  {
   "cell_type": "code",
   "execution_count": 1,
   "metadata": {},
   "outputs": [
    {
     "name": "stdout",
     "output_type": "stream",
     "text": [
      "Tensor(\"model1/model1/fully_connected/Relu:0\", shape=(?, 10), dtype=float32)\n",
      "Tensor(\"model1/model1/fully_connected_1/Relu:0\", shape=(?, 10), dtype=float32)\n",
      "Tensor(\"model1/model1/fully_connected_2/Relu:0\", shape=(?, 10), dtype=float32)\n",
      "Tensor(\"model1/model1/fully_connected_3/Relu:0\", shape=(?, 10), dtype=float32)\n",
      "Tensor(\"model1/model1/fully_connected_4/Relu:0\", shape=(?, 10), dtype=float32)\n",
      "Tensor(\"model1/model1/fully_connected_5/Relu:0\", shape=(?, 10), dtype=float32)\n",
      "Tensor(\"model1/model1/fully_connected_6/Relu:0\", shape=(?, 10), dtype=float32)\n",
      "Tensor(\"model1/model1/fully_connected_7/Relu:0\", shape=(?, 10), dtype=float32)\n",
      "Tensor(\"model1/model1/fully_connected_8/Relu:0\", shape=(?, 10), dtype=float32)\n",
      "Tensor(\"model1/model1/fully_connected_9/Relu:0\", shape=(?, 10), dtype=float32)\n",
      "Tensor(\"model1/model1/fully_connected_10/Relu:0\", shape=(?, 10), dtype=float32)\n",
      "Tensor(\"model1/model1/fully_connected_11/Relu:0\", shape=(?, 10), dtype=float32)\n",
      "Tensor(\"model1/model1/fully_connected_12/Relu:0\", shape=(?, 10), dtype=float32)\n",
      "Tensor(\"model1/model1/fully_connected_13/Relu:0\", shape=(?, 10), dtype=float32)\n",
      "Tensor(\"model1/model1/fully_connected_14/Relu:0\", shape=(?, 10), dtype=float32)\n",
      "Tensor(\"model1/model1/fully_connected_15/Relu:0\", shape=(?, 10), dtype=float32)\n",
      "Tensor(\"model1/model1/fully_connected_16/Relu:0\", shape=(?, 10), dtype=float32)\n",
      "Tensor(\"model1/model1/fully_connected_17/Relu:0\", shape=(?, 10), dtype=float32)\n",
      "Tensor(\"model1/model1/fully_connected_18/Relu:0\", shape=(?, 10), dtype=float32)\n",
      "Tensor(\"model1/model1/fully_connected_19/Relu:0\", shape=(?, 10), dtype=float32)\n",
      "Tensor(\"model1/model1/fully_connected_20/Relu:0\", shape=(?, 10), dtype=float32)\n",
      "Tensor(\"model1/model1/fully_connected_21/Relu:0\", shape=(?, 10), dtype=float32)\n",
      "Tensor(\"model1/model1/fully_connected_22/Relu:0\", shape=(?, 10), dtype=float32)\n",
      "Tensor(\"model1/model1/fully_connected_23/Relu:0\", shape=(?, 10), dtype=float32)\n",
      "Tensor(\"model1/model1/fully_connected_24/Relu:0\", shape=(?, 10), dtype=float32)\n",
      "Tensor(\"model1/model1/fully_connected_25/Relu:0\", shape=(?, 10), dtype=float32)\n",
      "Tensor(\"model1/model1/fully_connected_26/Relu:0\", shape=(?, 10), dtype=float32)\n",
      "Tensor(\"model1/model1/fully_connected_27/Relu:0\", shape=(?, 10), dtype=float32)\n",
      "Tensor(\"model1/model1/fully_connected_28/Relu:0\", shape=(?, 10), dtype=float32)\n",
      "Tensor(\"model1/model1/fully_connected_29/Relu:0\", shape=(?, 10), dtype=float32)\n",
      "Tensor(\"model1/model1/fully_connected_30/Relu:0\", shape=(?, 10), dtype=float32)\n",
      "Tensor(\"model1/model1/fully_connected_31/Relu:0\", shape=(?, 10), dtype=float32)\n",
      "Tensor(\"model1/model1/fully_connected_32/Relu:0\", shape=(?, 10), dtype=float32)\n",
      "Tensor(\"model1/model1/fully_connected_33/Relu:0\", shape=(?, 10), dtype=float32)\n",
      "Tensor(\"model1/model1/fully_connected_34/Relu:0\", shape=(?, 10), dtype=float32)\n",
      "Tensor(\"model1/model1/fully_connected_35/Relu:0\", shape=(?, 10), dtype=float32)\n",
      "Tensor(\"model1/model1/fully_connected_36/Relu:0\", shape=(?, 10), dtype=float32)\n",
      "Tensor(\"model1/model1/fully_connected_37/Relu:0\", shape=(?, 10), dtype=float32)\n",
      "Tensor(\"model1/model1/fully_connected_38/Relu:0\", shape=(?, 10), dtype=float32)\n",
      "Tensor(\"model1/model1/fully_connected_39/Relu:0\", shape=(?, 10), dtype=float32)\n",
      "Tensor(\"model1/model1/fully_connected_40/Relu:0\", shape=(?, 10), dtype=float32)\n",
      "Tensor(\"model1/model1/fully_connected_41/Relu:0\", shape=(?, 10), dtype=float32)\n",
      "Tensor(\"model1/model1/fully_connected_42/Relu:0\", shape=(?, 10), dtype=float32)\n",
      "Tensor(\"model1/model1/fully_connected_43/Relu:0\", shape=(?, 10), dtype=float32)\n",
      "Tensor(\"model1/model1/fully_connected_44/Relu:0\", shape=(?, 10), dtype=float32)\n",
      "Tensor(\"model1/model1/fully_connected_45/Relu:0\", shape=(?, 10), dtype=float32)\n",
      "Tensor(\"model1/model1/fully_connected_46/Relu:0\", shape=(?, 10), dtype=float32)\n",
      "Tensor(\"model1/model1/fully_connected_47/Relu:0\", shape=(?, 10), dtype=float32)\n",
      "Tensor(\"model1/model1/fully_connected_48/Relu:0\", shape=(?, 10), dtype=float32)\n",
      "Tensor(\"model1/model1/fully_connected_49/Relu:0\", shape=(?, 10), dtype=float32)\n"
     ]
    }
   ],
   "source": [
    "import tensorflow as tf\n",
    "\n",
    "inputs = tf.placeholder(tf.float32, (None, 20))\n",
    "\n",
    "# How do I make a 50-layer network without 50 lines of code?\n",
    "with tf.name_scope('model1'), tf.variable_scope('model1'):\n",
    "    act = inputs\n",
    "    for i in range(50):\n",
    "        act = tf.contrib.layers.fully_connected(act, 10)\n",
    "        print(act)\n",
    "        "
   ]
  },
  {
   "cell_type": "markdown",
   "metadata": {},
   "source": [
    "## Batch Normalization"
   ]
  },
  {
   "cell_type": "code",
   "execution_count": null,
   "metadata": {},
   "outputs": [],
   "source": [
    "I = tf.placeholder(tf.float32, (None, 32, 32, 3))\n",
    "training = tf.placeholder_with_default(False, (), name='trainmode')\n",
    "\n",
    "with tf.name_scope('model2'), tf.variable_scope('model2'):\n",
    "    c1 = tf.contrib.layers.conv2d(I, 20, (7, 7), scope='conv1')\n",
    "    b1 = tf.layers.batch_normalization(c1, center=False, scale=False, training=training)\n",
    "    c2 = tf.contrib.layers.conv2d(c1, 5, (7, 7), scope='conv2')\n",
    "    flat = tf.contrib.layers.flatten(c2)\n",
    "    print(flat)"
   ]
  },
  {
   "cell_type": "markdown",
   "metadata": {},
   "source": [
    "## Graph Keys"
   ]
  },
  {
   "cell_type": "code",
   "execution_count": null,
   "metadata": {},
   "outputs": [],
   "source": [
    "tf.GraphKeys.GLOBAL_VARIABLES"
   ]
  },
  {
   "cell_type": "markdown",
   "metadata": {},
   "source": [
    "## Collections"
   ]
  },
  {
   "cell_type": "code",
   "execution_count": null,
   "metadata": {},
   "outputs": [],
   "source": [
    "tf.get_collection(tf.GraphKeys.GLOBAL_VARIABLES)"
   ]
  },
  {
   "cell_type": "markdown",
   "metadata": {},
   "source": [
    "## Control Dependencies"
   ]
  },
  {
   "cell_type": "code",
   "execution_count": null,
   "metadata": {
    "collapsed": true
   },
   "outputs": [],
   "source": [
    "with tf.control_dependencies(opt_to_finish):\n",
    "    opt_to_run"
   ]
  },
  {
   "cell_type": "markdown",
   "metadata": {},
   "source": [
    "## Batch Normalization (Continued)"
   ]
  },
  {
   "cell_type": "code",
   "execution_count": null,
   "metadata": {},
   "outputs": [],
   "source": [
    "labels = tf.placeholder(tf.int32, (None))\n",
    "loss = tf.reduce_mean(tf.nn.sparse_softmax_cross_entropy_with_logits(logits=flat, labels=labels))\n",
    "\n",
    "with tf.control_dependencies(tf.get_collection(tf.GraphKeys.UPDATE_OPS)):\n",
    "    optimizer = tf.train.MomentumOptimizer(0.0001, 0.9).minimize(loss)\n",
    "\n"
   ]
  }
 ],
 "metadata": {
  "anaconda-cloud": {},
  "kernelspec": {
   "display_name": "Python 3",
   "language": "python",
   "name": "python3"
  },
  "language_info": {
   "codemirror_mode": {
    "name": "ipython",
    "version": 3
   },
   "file_extension": ".py",
   "mimetype": "text/x-python",
   "name": "python",
   "nbconvert_exporter": "python",
   "pygments_lexer": "ipython3",
   "version": "3.6.2"
  }
 },
 "nbformat": 4,
 "nbformat_minor": 1
}
