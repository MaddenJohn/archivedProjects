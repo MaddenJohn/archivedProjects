{
 "cells": [
  {
   "cell_type": "markdown",
   "metadata": {},
   "source": [
    "# Section 3\n",
    "\n",
    "## Today's Topics\n",
    "<ul>\n",
    "<li>Review TF Basics</li>\n",
    "<li>More on TF</li>\n",
    "<li>Loss Functions</li>\n",
    "</ul>\n",
    "\n",
    "### Extra Resources\n",
    "<ul>\n",
    "<li><a href='https://www.tensorflow.org/'>TensorFlow</a></li>\n",
    "<li><a href='https://www.tensorflow.org/get_started/'>TF Getting Started Tutorials</a></li>\n",
    "<li><a href='https://www.tensorflow.org/programmers_guide/'>TF Programmer's Guide</a></li>\n",
    "<li><a href='http://cs231n.github.io/linear-classify/'>Notes on Linear Classification</a> - see this if you are confused on what we have been doing.\n",
    "<li><a href='http://ufldl.stanford.edu/tutorial/supervised/SoftmaxRegression/'>Notes on Softmax Regression</a> - see this if you are confused on what we are doing now.\n",
    "</ul>\n",
    "\n",
    "### Open Questions\n",
    "What is still confusing? Let's work through some examples together.\n",
    "\n",
    "Potential topics:\n",
    "<ul>\n",
    "<li>Activation and weight sizes</li>\n",
    "<li>Hidden layers</li>\n",
    "<li>Activation functions</li>\n",
    "<li>Initializing variables</li>\n",
    "<li>Getting outputs from your graph\n",
    "</ul>"
   ]
  },
  {
   "cell_type": "code",
   "execution_count": null,
   "metadata": {},
   "outputs": [],
   "source": [
    "### In class examples\n",
    "\n",
    "import tensorflow as tf\n",
    "import numpy as np\n",
    "\n",
    "sess = tf.Session()\n",
    "\n",
    "# Hidden layer sizes\n",
    "\n",
    "# (m x n) and (n x p)\n",
    "#       (m x p)\n",
    "\n",
    "# y = xW + b\n",
    "input_size = 10\n",
    "output_size = 5\n",
    "\n",
    "inputs = tf.placeholder(tf.float32, (None, input_size), name='inputs')\n",
    "weights = tf.get_variable(\"weights\", (input_size, output_size), initializer=tf.random_normal_initializer())\n",
    "bias = tf.get_variable(\"bias\", (output_size), initializer=tf.zeros_initializer())\n",
    "\n",
    "outputs = tf.matmul(inputs, weights) + bias\n",
    "\n",
    "print('m by n ' + str(inputs.get_shape()))\n",
    "print('n by p ' + str(weights.get_shape()))\n",
    "print('p ' + str(bias.get_shape()))\n",
    "print('m by p ' + str(outputs.get_shape()))\n"
   ]
  },
  {
   "cell_type": "markdown",
   "metadata": {},
   "source": [
    "### More on TensorFlow"
   ]
  },
  {
   "cell_type": "code",
   "execution_count": null,
   "metadata": {},
   "outputs": [],
   "source": [
    "# Reshaping data\n",
    "inputs = tf.placeholder(tf.float32, (None, 32, 32, 3))\n",
    "print(inputs)\n",
    "\n",
    "# Flattening\n",
    "flat = tf.contrib.layers.flatten(inputs)\n",
    "print(flat)\n",
    "\n",
    "# Other reshapes\n",
    "r1 = tf.reshape(inputs, [-1, 32*32, 3])\n",
    "print(r1)\n",
    "\n",
    "r2 = tf.reshape(inputs, [-1])\n",
    "print(r2)\n"
   ]
  },
  {
   "cell_type": "code",
   "execution_count": null,
   "metadata": {},
   "outputs": [],
   "source": [
    "# One hot vectors\n",
    "\n",
    "# We have labels [2, 1, 0, 3]\n",
    "# We want labels [[0, 0, 1, 0], [0, 1, 0, 0], [1, 0, 0, 0], [0, 0, 0, 1]]\n",
    "labels = tf.placeholder(tf.int32, (10))\n",
    "print(labels)\n",
    "\n",
    "onehot = tf.one_hot(labels, 5)\n",
    "print(onehot)\n",
    "\n",
    "sess.run(onehot, {labels: [0, 1, 2, 3, 4, 0, 1, 2, 3, 4]})\n"
   ]
  },
  {
   "cell_type": "code",
   "execution_count": null,
   "metadata": {},
   "outputs": [],
   "source": [
    "# Layers\n",
    "inputs2 = tf.placeholder(tf.float32, (None, 10))\n",
    "\n",
    "# Fully-connected layers\n",
    "h = tf.layers.dense(inputs2, 20, activation=tf.nn.relu, kernel_initializer=tf.random_normal_initializer(0, 0.1))\n",
    "print(h)\n",
    "\n",
    "# Other layers?\n",
    "print(tf.layers.conv2d)\n",
    "print(tf.layers.max_pooling2d)\n",
    "print(tf.layers.dropout)\n",
    "# and more"
   ]
  },
  {
   "cell_type": "markdown",
   "metadata": {},
   "source": [
    "### Loss Functions\n",
    "\n",
    "<a href='https://www.tensorflow.org/versions/r1.3/api_docs/python/tf/nn/softmax_cross_entropy_with_logits'>Softmax Cross Entropy With Logits</a><br/>\n",
    "<a href='https://www.tensorflow.org/versions/r1.3/api_docs/python/tf/nn/sparse_softmax_cross_entropy_with_logits'>Sparse Softmax Cross Entropy</a><br>\n",
    "<a href='https://www.tensorflow.org/versions/r1.3/api_docs/python/tf/nn/sigmoid_cross_entropy_with_logits'>Sigmoid Cross Entropy With Logits</a><br/>\n",
    "<a href='http://peterroelants.github.io/posts/neural_network_implementation_intermezzo02/'>Notes on Softmax</a>\n",
    "\n",
    "Look at the documentation:\n",
    "<ul>\n",
    "<li>Does a loss function ask for unscaled logits? Why?</li>\n",
    "<li>What order should you pass your arguments? What happens if you flip one?</li>\n",
    "<li>Where can you find the TensorFlow source code?</li>\n",
    "</ul>"
   ]
  },
  {
   "cell_type": "code",
   "execution_count": null,
   "metadata": {},
   "outputs": [],
   "source": [
    "I = tf.placeholder(tf.float32, (None, 10), name='data')\n",
    "targets = tf.placeholder(tf.int64, (None, 1), name='targets')\n",
    "\n",
    "hidden = tf.layers.dense(I, 30, activation=tf.nn.relu)\n",
    "out = tf.layers.dense(hidden, 5)\n",
    "\n",
    "loss = tf.reduce_mean(tf.losses.sparse_softmax_cross_entropy(logits=out, labels=targets))\n",
    "\n",
    "optimizer = tf.train.MomentumOptimizer(0.0001, 0.9).minimize(loss)\n",
    "\n",
    "# Train (see hw3 starter code for details)\n",
    "\n",
    "# Test: how to see predicts from your network?\n",
    "preds = tf.argmax(out, 1)"
   ]
  },
  {
   "cell_type": "markdown",
   "metadata": {},
   "source": [
    "### Optimization\n",
    "<a href='https://distill.pub/2017/momentum/'>Why Momentum Really Works - Distill</a>"
   ]
  },
  {
   "cell_type": "code",
   "execution_count": null,
   "metadata": {
    "collapsed": true
   },
   "outputs": [],
   "source": []
  }
 ],
 "metadata": {
  "kernelspec": {
   "display_name": "Python 3",
   "language": "python",
   "name": "python3"
  },
  "language_info": {
   "codemirror_mode": {
    "name": "ipython",
    "version": 3
   },
   "file_extension": ".py",
   "mimetype": "text/x-python",
   "name": "python",
   "nbconvert_exporter": "python",
   "pygments_lexer": "ipython3",
   "version": "3.6.2"
  }
 },
 "nbformat": 4,
 "nbformat_minor": 2
}
