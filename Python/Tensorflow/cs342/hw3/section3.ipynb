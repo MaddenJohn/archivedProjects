{
 "cells": [
  {
   "cell_type": "markdown",
   "metadata": {},
   "source": [
    "# Section 3\n",
    "\n",
    "## Today's Topics\n",
    "<ul>\n",
    "<li>Review TF Basics</li>\n",
    "<li>More on TF</li>\n",
    "<li>Loss Functions</li>\n",
    "</ul>\n",
    "\n",
    "### Extra Resources\n",
    "<ul>\n",
    "<li><a href='https://www.tensorflow.org/'>TensorFlow</a></li>\n",
    "<li><a href='https://www.tensorflow.org/get_started/'>TF Getting Started Tutorials</a></li>\n",
    "<li><a href='https://www.tensorflow.org/programmers_guide/'>TF Programmer's Guide</a></li>\n",
    "<li><a href='http://cs231n.github.io/linear-classify/'>Notes on Linear Classification</a> - see this if you are confused on what we have been doing.\n",
    "<li><a href='http://ufldl.stanford.edu/tutorial/supervised/SoftmaxRegression/'>Notes on Softmax Regression</a> - see this if you are confused on what we are doing now.\n",
    "</ul>\n",
    "\n",
    "### Open Questions\n",
    "What is still confusing? Let's work through some examples together.\n",
    "\n",
    "Potential topics:\n",
    "<ul>\n",
    "<li>Activation and weight sizes</li>\n",
    "<li>Hidden layers</li>\n",
    "<li>Activation functions</li>\n",
    "<li>Initializing variables</li>\n",
    "<li>Getting outputs from your graph\n",
    "</ul>"
   ]
  },
  {
   "cell_type": "code",
   "execution_count": 2,
   "metadata": {},
   "outputs": [
    {
     "name": "stdout",
     "output_type": "stream",
     "text": [
      "Tensor(\"Mean:0\", shape=(), dtype=float32)\n"
     ]
    }
   ],
   "source": [
    "import tensorflow as tf\n",
    "import numpy as np\n",
    "\n",
    "sess = tf.Session()\n",
    "\n",
    "### In class examples\n",
    "inputs = tf.placeholder(tf.float32, (None, 2))\n",
    "labels = tf.placeholder(tf.float32, (None, 1))\n",
    "outputs = tf.layers.dense(inputs, 1)\n",
    "\n",
    "loss = tf.reduce_mean(tf.nn.sigmoid_cross_entropy_with_logits(labels=labels, logits=outputs))\n",
    "print(loss)\n",
    "\n",
    "###"
   ]
  },
  {
   "cell_type": "markdown",
   "metadata": {},
   "source": [
    "### More on TensorFlow"
   ]
  },
  {
   "cell_type": "code",
   "execution_count": 3,
   "metadata": {},
   "outputs": [
    {
     "name": "stdout",
     "output_type": "stream",
     "text": [
      "Tensor(\"Placeholder_2:0\", shape=(?, 32, 32, 3), dtype=float32)\n",
      "Tensor(\"Flatten/Reshape:0\", shape=(?, 3072), dtype=float32)\n",
      "Tensor(\"Reshape:0\", shape=(?, 1024, 3), dtype=float32)\n",
      "Tensor(\"Reshape_1:0\", shape=(10, 1024, 3), dtype=float32)\n"
     ]
    }
   ],
   "source": [
    "# Reshaping data\n",
    "inputs = tf.placeholder(tf.float32, (None, 32, 32, 3))\n",
    "print (inputs)\n",
    "\n",
    "# Flattening\n",
    "flat = tf.contrib.layers.flatten(inputs)\n",
    "print (flat)\n",
    "\n",
    "\n",
    "# Other reshapes\n",
    "shaped = tf.reshape(inputs, shape=[-1, 32*32, 3])\n",
    "print (shaped)\n",
    "shaped = tf.reshape(inputs, shape=[10, 32*32, 3])\n",
    "print (shaped)"
   ]
  },
  {
   "cell_type": "code",
   "execution_count": 4,
   "metadata": {},
   "outputs": [
    {
     "name": "stdout",
     "output_type": "stream",
     "text": [
      "Tensor(\"one_hot:0\", shape=(10, 5), dtype=float32)\n",
      "[[ 1.  0.  0.  0.  0.]\n",
      " [ 0.  1.  0.  0.  0.]\n",
      " [ 0.  0.  1.  0.  0.]\n",
      " [ 0.  0.  0.  1.  0.]\n",
      " [ 0.  0.  0.  0.  1.]\n",
      " [ 1.  0.  0.  0.  0.]\n",
      " [ 0.  1.  0.  0.  0.]\n",
      " [ 0.  0.  1.  0.  0.]\n",
      " [ 0.  0.  0.  1.  0.]\n",
      " [ 0.  0.  0.  0.  1.]]\n"
     ]
    }
   ],
   "source": [
    "# One hot vectors\n",
    "\n",
    "# We have labels [2, 1, 0, 3]\n",
    "# We want labels [[0, 0, 1, 0], [0, 1, 0, 0], [1, 0, 0, 0], [0, 0, 0, 1]]\n",
    "labels = tf.placeholder(tf.int32, (10))  # hardcoding in sample values, size\n",
    "\n",
    "onehot = tf.one_hot(labels, 5)\n",
    "print (onehot)\n",
    "\n",
    "print (sess.run(onehot, {labels: [0,1,2,3,4,0,1,2,3,4]}))\n"
   ]
  },
  {
   "cell_type": "code",
   "execution_count": 5,
   "metadata": {},
   "outputs": [
    {
     "name": "stdout",
     "output_type": "stream",
     "text": [
      "Tensor(\"hidden_layer/Relu:0\", shape=(?, 100), dtype=float32)\n",
      "Tensor(\"dense_2/BiasAdd:0\", shape=(?, 1), dtype=float32)\n"
     ]
    }
   ],
   "source": [
    "# Layers\n",
    "inputs2 = tf.placeholder(tf.float32, (None, 10))\n",
    "\n",
    "# Fully-connected layers\n",
    "h = tf.layers.dense(inputs2, 100, activation=tf.nn.relu, name='hidden_layer')\n",
    "print(h)\n",
    "\n",
    "o = tf.layers.dense(h, 1)\n",
    "print(o)\n",
    "\n",
    "#h = tf.layers.dense(inputs2, 20, activation=tf.nn.relu, kernel_initializer=, name='hidden_layer')\n",
    "# Other layers?"
   ]
  },
  {
   "cell_type": "code",
   "execution_count": 8,
   "metadata": {},
   "outputs": [
    {
     "name": "stdout",
     "output_type": "stream",
     "text": [
      "Tensor(\"Placeholder_7:0\", shape=(?, 10), dtype=float32)\n",
      "Tensor(\"dense_14/Relu:0\", shape=(?, 100), dtype=float32)\n",
      "Tensor(\"dense_15/Relu:0\", shape=(?, 100), dtype=float32)\n",
      "Tensor(\"dense_16/Relu:0\", shape=(?, 100), dtype=float32)\n",
      "Tensor(\"dense_17/Relu:0\", shape=(?, 100), dtype=float32)\n",
      "Tensor(\"dense_18/Relu:0\", shape=(?, 100), dtype=float32)\n",
      "Tensor(\"dense_19/BiasAdd:0\", shape=(?, 1), dtype=float32)\n"
     ]
    }
   ],
   "source": [
    "inputs3 = tf.placeholder(tf.float32, (None, 10))\n",
    "h1 = tf.layers.dense(inputs3, 100, activation=tf.nn.relu)\n",
    "h2 = tf.layers.dense(h1, 100, activation=tf.nn.relu)\n",
    "h3 = tf.layers.dense(h2, 100, activation=tf.nn.relu)\n",
    "h4 = tf.layers.dense(h3, 100, activation=tf.nn.relu)\n",
    "h5 = tf.layers.dense(h4, 100, activation=tf.nn.relu)\n",
    "o = tf.layers.dense(h5, 1)\n",
    "print (inputs3)\n",
    "print (h1)\n",
    "print (h2)\n",
    "print (h3)\n",
    "print (h4)\n",
    "print (h5)\n",
    "print (o)"
   ]
  },
  {
   "cell_type": "markdown",
   "metadata": {},
   "source": [
    "### Loss Functions\n",
    "\n",
    "<a href='https://www.tensorflow.org/versions/r1.3/api_docs/python/tf/nn/softmax_cross_entropy_with_logits'>Softmax Cross Entropy With Logits</a><br/>\n",
    "<a href='https://www.tensorflow.org/versions/r1.3/api_docs/python/tf/nn/sparse_softmax_cross_entropy_with_logits'>Sparse Softmax Cross Entropy</a><br>\n",
    "<a href='https://www.tensorflow.org/versions/r1.3/api_docs/python/tf/nn/sigmoid_cross_entropy_with_logits'>Sigmoid Cross Entropy With Logits</a><br/>\n",
    "<a href='http://peterroelants.github.io/posts/neural_network_implementation_intermezzo02/'>Notes on Softmax</a>\n",
    "\n",
    "Look at the documentation:\n",
    "<ul>\n",
    "<li>Does a loss function ask for unscaled logits? Why?</li>\n",
    "<li>What order should you pass your arguments? What happens if you flip one?</li>\n",
    "<li>Where can you find the TensorFlow source code?</li>\n",
    "</ul>"
   ]
  },
  {
   "cell_type": "code",
   "execution_count": 11,
   "metadata": {},
   "outputs": [
    {
     "name": "stdout",
     "output_type": "stream",
     "text": [
      "[ 0.01165623  0.03168492  0.08612854  0.23412165  0.63640863]\n",
      "4\n"
     ]
    }
   ],
   "source": [
    "# 2 branches \n",
    "#   -- optimizer -> sotmax C.E. -> dense -> dense -> hidden\n",
    "#   -- argmax -> softmax ------------^\n",
    "\n",
    "inputs4 = tf.placeholder(tf.float32, (5), name='sm_in')\n",
    "probs = tf.nn.softmax(inputs4)\n",
    "pred = tf.argmax(probs)\n",
    "#input_data = [1,1,1,1,1]\n",
    "input_data = [1,2,3,4,5]\n",
    "print(sess.run(probs, {inputs4:input_data}))\n",
    "print(sess.run(pred, {inputs4:input_data}))"
   ]
  },
  {
   "cell_type": "markdown",
   "metadata": {},
   "source": [
    "### Optimization\n",
    "<a href='https://distill.pub/2017/momentum/'>Why Momentum Really Works - Distill</a>"
   ]
  },
  {
   "cell_type": "code",
   "execution_count": null,
   "metadata": {
    "collapsed": true
   },
   "outputs": [],
   "source": []
  }
 ],
 "metadata": {
  "anaconda-cloud": {},
  "kernelspec": {
   "display_name": "Python 3",
   "language": "python",
   "name": "python3"
  },
  "language_info": {
   "codemirror_mode": {
    "name": "ipython",
    "version": 3
   },
   "file_extension": ".py",
   "mimetype": "text/x-python",
   "name": "python",
   "nbconvert_exporter": "python",
   "pygments_lexer": "ipython3",
   "version": "3.6.2"
  }
 },
 "nbformat": 4,
 "nbformat_minor": 2
}
