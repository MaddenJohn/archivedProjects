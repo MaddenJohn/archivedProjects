{
 "cells": [
  {
   "cell_type": "markdown",
   "metadata": {},
   "source": [
    "# Homework 3\n",
    "In this homework you will train your first deep network on actual high-dimensional data, namely images from supertux. You will extend the non-linear multi-layer perceptron trained in the previous assignment.\n",
    "\n",
    "Development notes: \n",
    "\n",
    "1) If you are doing your homework in a Jupyter/iPython notebook you may need to 'Restart & Clear Output' after making a change and re-running a cell.  TensorFlow will not allow you to create multiple variables with the same name, which is what you are doing when you run a cell that creates a variable twice.<br/><br/>\n",
    "2) Be careful with your calls to global_variables_initializer(). If you call it after training one network it will re-initialize your variables erasing your training.  In general, double check the outputs of your model after all training and before turning your model in. Ending a session will discard all your variable values.\n",
    "\n",
    "## Part 0: Setup"
   ]
  },
  {
   "cell_type": "code",
   "execution_count": 1,
   "metadata": {},
   "outputs": [
    {
     "name": "stdout",
     "output_type": "stream",
     "text": [
      "Input shape: (12257, 64, 64, 3)\n",
      "Labels shape: (12257,)\n"
     ]
    }
   ],
   "source": [
    "import tensorflow as tf\n",
    "import numpy as np\n",
    "import util\n",
    "\n",
    "# Load the data we are giving you\n",
    "def load(filename, W=64, H=64):\n",
    "    data = np.fromfile(filename, dtype=np.uint8).reshape((-1, W*H*3+1))\n",
    "    images, labels = data[:, :-1].reshape((-1,H,W,3)), data[:, -1]\n",
    "    return images, labels\n",
    "\n",
    "image_data, label_data = load('tux_train.dat')\n",
    "\n",
    "print('Input shape: ' + str(image_data.shape))\n",
    "print('Labels shape: ' + str(label_data.shape))\n",
    "\n",
    "num_classes = 6\n",
    "\n",
    "# Set up your input placeholder\n",
    "inputs = tf.placeholder(tf.float32, (None,64,64,3), name='input')\n",
    "\n",
    "# Whenever you deal with image data it's important to mean center it first and subtract the standard deviation\n",
    "white_inputs = (inputs - 100.) / 72.\n",
    "\n",
    "# Next let's flatten the inputs\n",
    "flat_inputs = tf.contrib.layers.flatten(white_inputs)\n",
    "\n",
    "\n",
    "# Set up your label placeholders\n",
    "labels = tf.placeholder(tf.int64, (None), name='labels')\n",
    "float_labels = tf.cast(labels, tf.float32)\n",
    "onehot_labels = tf.one_hot(labels, num_classes, name='onehot_labels')"
   ]
  },
  {
   "cell_type": "markdown",
   "metadata": {},
   "source": [
    "## Part 1: Regression to Scalar\n",
    "Set up a compute graph that does regression from the inputs to\n",
    "the scalar value of the label.\n",
    "\n",
    "i.e. frame$_i$ --> y, where y is some value [0,5]"
   ]
  },
  {
   "cell_type": "code",
   "execution_count": 2,
   "metadata": {
    "collapsed": true
   },
   "outputs": [],
   "source": [
    "# The scope allows you to copy the network architecture between different parts without accidentially sharing some weights\n",
    "with tf.name_scope('sr'):\n",
    "    # Step 1: define the compute graph of your regressor from images to\n",
    "    #     scalar value. The input should be 'flat_inputs'\n",
    "    # Hint: The first fully_connected layer should have a ReLU activation, the second should not have any activation_fn=None\n",
    "    ### Your code here ###\n",
    "    hidden = tf.contrib.layers.fully_connected(flat_inputs, 100)\n",
    "    hidden2 = tf.contrib.layers.fully_connected(hidden, 100, activation_fn=None)\n",
    "    output = tf.contrib.layers.fully_connected(hidden2, 1, activation_fn=None)\n",
    "    output = tf.identity(output, name='output') # due to the scope this variable is called 'sr/output'\n",
    "    \n",
    "    # Step 2: use a loss function over your predictions and the ground truth, penalize the mean squared distance between output and 'float_labels'.\n",
    "    ### Your code here ###\n",
    "    sr_loss = tf.reduce_mean(tf.squared_difference(output, float_labels))\n",
    "    \n",
    "    # Step 3: create an optimizer (MomentumOptimizer with learning rate 0.0001 and momentum 0.9 works well)\n",
    "    ### Your code here ###\n",
    "    sr_optimizer = tf.train.MomentumOptimizer(0.0001, 0.9).minimize(sr_loss)\n",
    "\n",
    "    # Step 4: use that optimizer on your loss function\n",
    "    ### Your code here ###\n",
    "\n",
    "    correct = tf.abs(output-float_labels) < 0.5\n",
    "    sr_accuracy = tf.reduce_mean(tf.cast(correct, tf.float32))"
   ]
  },
  {
   "cell_type": "markdown",
   "metadata": {},
   "source": [
    "## Part 2: Regression to One-Hot Vector\n",
    "Set up a compute graph that does regresion from the inputs to a \n",
    "one-hot representation of the labels.  Use the onehot_labels variable we have provided you.\n",
    "\n",
    "i.e. frame$_i$ --> y, where y is [0,...,1,..0] with 1 in the index of the label value.  \n",
    "ex: (frame$_i$, 2) becomes (frame$_i$, [0, 0, 1, 0, 0, 0])"
   ]
  },
  {
   "cell_type": "code",
   "execution_count": 3,
   "metadata": {
    "collapsed": true
   },
   "outputs": [],
   "source": [
    "with tf.name_scope('ohr'):\n",
    "    # Step 1: define the compute graph of your regressor from images\n",
    "    #     to one-hot labels (python variable onehot_labels with TF\n",
    "    #     name 'onehot_lables')\n",
    "    # Note: use the same input as your first regressor 'flat_inputs',\n",
    "    #       and different labels, python variable onehot_labels.\n",
    "    #       You will have three branches off the input, your two regressors\n",
    "    #           and a classifier.\n",
    "    ### Your code here ###\n",
    "    hidden = tf.contrib.layers.fully_connected(flat_inputs, 100)\n",
    "    hidden2 = tf.contrib.layers.fully_connected(hidden, 100, activation_fn=None)\n",
    "    output = tf.contrib.layers.fully_connected(hidden2, 6, activation_fn=None)\n",
    "    output = tf.identity(output, name='output') # due to the scope this variable is called 'sr/output'\n",
    "    \n",
    "    # Step 2: use a loss function over your predictions and the ground truth.\n",
    "    ### Your code here ###\n",
    "    ohr_loss = tf.reduce_mean(tf.squared_difference(output, onehot_labels))\n",
    "    \n",
    "    # Step 3: create an optimizer (MomentumOptimizer with learning rate 0.0001 and momentum 0.9 works well)\n",
    "    ### Your code here ###\n",
    "    ohr_optimizer = tf.train.MomentumOptimizer(0.0001, 0.9).minimize(ohr_loss)\n",
    "\n",
    "    # Step 4: use that optimizer on your loss function\n",
    "    ### Your code here ###\n",
    "    correct = tf.equal(tf.argmax(output, 1), labels)\n",
    "    ohr_accuracy = tf.reduce_mean(tf.cast(correct, tf.float32))"
   ]
  },
  {
   "cell_type": "markdown",
   "metadata": {},
   "source": [
    "## Part 3: Softmax + Log-Likelihood"
   ]
  },
  {
   "cell_type": "code",
   "execution_count": 4,
   "metadata": {
    "collapsed": true
   },
   "outputs": [],
   "source": [
    "with tf.name_scope('ll'):\n",
    "    # Step 1: define your compute graph\n",
    "    ### Your code here ###\n",
    "    hidden = tf.contrib.layers.fully_connected(flat_inputs, 100)\n",
    "    hidden2 = tf.contrib.layers.fully_connected(hidden, 100, activation_fn=None)\n",
    "    output = tf.contrib.layers.fully_connected(hidden2, 6, activation_fn=None)\n",
    "    output = tf.identity(output, name='output')\n",
    "\n",
    "    # Step 2: use a classification loss function\n",
    "    ### Your code here ###\n",
    "    l1_loss = tf.reduce_mean(tf.nn.sparse_softmax_cross_entropy_with_logits(logits=output, labels=labels))\n",
    "    \n",
    "    # Step 3: create an optimizer\n",
    "    ### Your code here ###\n",
    "    l1_optimizer = tf.train.MomentumOptimizer(0.0001, 0.9).minimize(l1_loss)\n",
    "\n",
    "    # Step 4: use that optimizer on your loss function\n",
    "    ### Your code here ###\n",
    "    correct = tf.equal(tf.argmax(output, 1), labels)\n",
    "    l1_accuracy = tf.reduce_mean(tf.cast(correct, tf.float32))"
   ]
  },
  {
   "cell_type": "markdown",
   "metadata": {},
   "source": [
    "## Part 4: Softmax + L2-Regression"
   ]
  },
  {
   "cell_type": "code",
   "execution_count": null,
   "metadata": {
    "collapsed": true
   },
   "outputs": [],
   "source": [
    "with tf.name_scope('l2'):\n",
    "    # Step 1: define your compute graph\n",
    "    ### Your code here ###\n",
    "    hidden = tf.contrib.layers.fully_connected(flat_inputs, 100)\n",
    "    hidden2 = tf.contrib.layers.fully_connected(hidden, 100, activation_fn=None)\n",
    "    output = tf.contrib.layers.fully_connected(hidden2, 6, activation_fn=None)\n",
    "    output = tf.identity(output, name='output')\n",
    "\n",
    "    # Step 2: use a classification loss function\n",
    "    ### Your code here ###\n",
    "    l2_loss = tf.reduce_mean(tf.squared_difference(tf.nn.softmax(output), onehot_labels))\n",
    "    \n",
    "    # Step 3: create an optimizer\n",
    "    ### Your code here ###\n",
    "    l2_optimizer = tf.train.MomentumOptimizer(0.0001, 0.9).minimize(l2_loss)\n",
    "\n",
    "    # Step 4: use that optimizer on your loss function\n",
    "    ### Your code here ###\n",
    "    correct = tf.equal(tf.argmax(output, 1), labels)\n",
    "    l2_accuracy = tf.reduce_mean(tf.cast(correct, tf.float32))"
   ]
  },
  {
   "cell_type": "markdown",
   "metadata": {},
   "source": [
    "## Part 5: Training"
   ]
  },
  {
   "cell_type": "code",
   "execution_count": null,
   "metadata": {},
   "outputs": [
    {
     "name": "stdout",
     "output_type": "stream",
     "text": [
      "Scalar regressor\n",
      "[  0] Accuracy: 0.218  \t  Loss: 2.524\n",
      "[  1] Accuracy: 0.220  \t  Loss: 2.140\n",
      "[  2] Accuracy: 0.221  \t  Loss: 2.123\n",
      "[  3] Accuracy: 0.222  \t  Loss: 2.109\n",
      "[  4] Accuracy: 0.221  \t  Loss: 2.109\n",
      "[  5] Accuracy: 0.221  \t  Loss: 2.103\n",
      "[  6] Accuracy: 0.221  \t  Loss: 2.103\n",
      "[  7] Accuracy: 0.221  \t  Loss: 2.094\n",
      "[  8] Accuracy: 0.221  \t  Loss: 2.091\n",
      "[  9] Accuracy: 0.221  \t  Loss: 2.093\n",
      "[ 10] Accuracy: 0.221  \t  Loss: 2.090\n",
      "[ 11] Accuracy: 0.221  \t  Loss: 2.089\n",
      "[ 12] Accuracy: 0.221  \t  Loss: 2.088\n",
      "[ 13] Accuracy: 0.221  \t  Loss: 2.090\n",
      "[ 14] Accuracy: 0.221  \t  Loss: 2.084\n",
      "[ 15] Accuracy: 0.221  \t  Loss: 2.087\n",
      "[ 16] Accuracy: 0.221  \t  Loss: 2.083\n",
      "[ 17] Accuracy: 0.221  \t  Loss: 2.083\n",
      "[ 18] Accuracy: 0.221  \t  Loss: 2.086\n",
      "[ 19] Accuracy: 0.221  \t  Loss: 2.088\n",
      "\n",
      "Onehot regressor\n",
      "[  0] Accuracy: 0.634  \t  Loss: 0.258\n",
      "[  1] Accuracy: 0.813  \t  Loss: 0.104\n",
      "[  2] Accuracy: 0.861  \t  Loss: 0.080\n",
      "[  3] Accuracy: 0.884  \t  Loss: 0.068\n",
      "[  4] Accuracy: 0.900  \t  Loss: 0.060\n",
      "[  5] Accuracy: 0.913  \t  Loss: 0.054\n",
      "[  6] Accuracy: 0.921  \t  Loss: 0.049\n",
      "[  7] Accuracy: 0.930  \t  Loss: 0.046\n",
      "[  8] Accuracy: 0.933  \t  Loss: 0.043\n",
      "[  9] Accuracy: 0.938  \t  Loss: 0.040\n",
      "[ 10] Accuracy: 0.941  \t  Loss: 0.038\n",
      "[ 11] Accuracy: 0.946  \t  Loss: 0.036\n",
      "[ 12] Accuracy: 0.949  \t  Loss: 0.035\n",
      "[ 13] Accuracy: 0.952  \t  Loss: 0.033\n",
      "[ 14] Accuracy: 0.954  \t  Loss: 0.032\n",
      "[ 15] Accuracy: 0.957  \t  Loss: 0.031\n",
      "[ 16] Accuracy: 0.957  \t  Loss: 0.030\n",
      "[ 17] Accuracy: 0.959  \t  Loss: 0.029\n",
      "[ 18] Accuracy: 0.961  \t  Loss: 0.028\n",
      "[ 19] Accuracy: 0.962  \t  Loss: 0.027\n",
      "\n",
      "Softmax+ll regressor\n",
      "[  0] Accuracy: 0.840  \t  Loss: 0.496\n",
      "[  1] Accuracy: 0.924  \t  Loss: 0.257\n",
      "[  2] Accuracy: 0.937  \t  Loss: 0.205\n",
      "[  3] Accuracy: 0.948  \t  Loss: 0.174\n",
      "[  4] Accuracy: 0.954  \t  Loss: 0.153\n",
      "[  5] Accuracy: 0.959  \t  Loss: 0.137\n",
      "[  6] Accuracy: 0.963  \t  Loss: 0.125\n",
      "[  7] Accuracy: 0.967  \t  Loss: 0.114\n",
      "[  8] Accuracy: 0.970  \t  Loss: 0.106\n",
      "[  9] Accuracy: 0.971  \t  Loss: 0.098\n",
      "[ 10] Accuracy: 0.973  \t  Loss: 0.091\n",
      "[ 11] Accuracy: 0.977  \t  Loss: 0.084\n",
      "[ 12] Accuracy: 0.977  \t  Loss: 0.081\n",
      "[ 13] Accuracy: 0.980  \t  Loss: 0.076\n",
      "[ 14] Accuracy: 0.982  \t  Loss: 0.071\n",
      "[ 15] Accuracy: 0.983  \t  Loss: 0.067\n",
      "[ 16] Accuracy: 0.984  \t  Loss: 0.064\n",
      "[ 17] Accuracy: 0.986  \t  Loss: 0.061\n",
      "[ 18] Accuracy: 0.986  \t  Loss: 0.057\n",
      "[ 19] Accuracy: 0.988  \t  Loss: 0.054\n",
      "\n",
      "Softmax+L2 regressor\n",
      "[  0] Accuracy: 0.580  \t  Loss: 0.095\n",
      "[  1] Accuracy: 0.776  \t  Loss: 0.057\n",
      "[  2] Accuracy: 0.818  \t  Loss: 0.047\n",
      "[  3] Accuracy: 0.849  \t  Loss: 0.040\n",
      "[  4] Accuracy: 0.869  \t  Loss: 0.035\n",
      "[  5] Accuracy: 0.882  \t  Loss: 0.032\n",
      "[  6] Accuracy: 0.892  \t  Loss: 0.029\n",
      "[  7] Accuracy: 0.901  \t  Loss: 0.027\n",
      "[  8] Accuracy: 0.910  \t  Loss: 0.025\n",
      "[  9] Accuracy: 0.916  \t  Loss: 0.024\n",
      "[ 10] Accuracy: 0.920  \t  Loss: 0.023\n",
      "[ 11] Accuracy: 0.923  \t  Loss: 0.022\n",
      "[ 12] Accuracy: 0.927  \t  Loss: 0.021\n",
      "[ 13] Accuracy: 0.929  \t  Loss: 0.020\n",
      "[ 14] Accuracy: 0.931  \t  Loss: 0.020\n",
      "[ 15] Accuracy: 0.935  \t  Loss: 0.019\n",
      "[ 16] Accuracy: 0.937  \t  Loss: 0.018\n",
      "[ 17] Accuracy: 0.937  \t  Loss: 0.018\n",
      "[ 18] Accuracy: 0.940  \t  Loss: 0.017\n"
     ]
    }
   ],
   "source": [
    "# Batch size\n",
    "BS = 32\n",
    "\n",
    "# Start a session\n",
    "sess = tf.Session()\n",
    "\n",
    "# Set up training (initialize the variables)\n",
    "### Your code here ###\n",
    "init = tf.global_variables_initializer()\n",
    "sess.run(init)\n",
    "\n",
    "\n",
    "# This is a helper function that trains your model for several epochs un shuffled data\n",
    "# train_func should take a single step in the optmimzation and return accuracy and loss\n",
    "#   accuracy, loss = train_func(batch_images, batch_labels)\n",
    "# HINT: train_func should call sess.run\n",
    "def train(train_func):\n",
    "    # An epoch is a single pass over the training data\n",
    "    for epoch in range(20):\n",
    "        # Let's shuffle the data every epoch\n",
    "        np.random.seed(epoch)\n",
    "        np.random.shuffle(image_data)\n",
    "        np.random.seed(epoch)\n",
    "        np.random.shuffle(label_data)\n",
    "        # Go through the entire dataset once\n",
    "        accs, losss = [], []\n",
    "        for i in range(0, image_data.shape[0]-BS+1, BS):\n",
    "            # Train a single batch\n",
    "            batch_images, batch_labels = image_data[i:i+BS], label_data[i:i+BS]\n",
    "            acc, loss = train_func(batch_images, batch_labels)\n",
    "            accs.append(acc)\n",
    "            losss.append(loss)\n",
    "        print('[%3d] Accuracy: %0.3f  \\t  Loss: %0.3f'%(epoch, np.mean(accs), np.mean(losss)))\n",
    "\n",
    "# Train scalar regressor network\n",
    "print('Scalar regressor')\n",
    "### Your code here ###\n",
    "def sr_trainer(img, lbl):\n",
    "    a, l, _ = sess.run([sr_accuracy, sr_loss, sr_optimizer], feed_dict={inputs:img, labels:lbl}) \n",
    "    return a, l\n",
    "train(sr_trainer)\n",
    "\n",
    "# Train onehot regressor network\n",
    "print('\\nOnehot regressor')\n",
    "### Your code here ###\n",
    "def ohr_trainer(img, lbl):\n",
    "    a, l, _ = sess.run([ohr_accuracy, ohr_loss, ohr_optimizer], feed_dict={inputs:img, labels:lbl}) \n",
    "    return a, l\n",
    "train(ohr_trainer)\n",
    "\n",
    "# Train classifier\n",
    "print('\\nSoftmax+ll regressor')\n",
    "### Your code here ###\n",
    "def l1_trainer(img, lbl):\n",
    "    a, l, _ = sess.run([l1_accuracy, l1_loss, l1_optimizer], feed_dict={inputs:img, labels:lbl}) \n",
    "    return a, l\n",
    "train(l1_trainer)\n",
    "\n",
    "# Train classifier\n",
    "print('\\nSoftmax+L2 regressor')\n",
    "### Your code here ###\n",
    "def l2_trainer(img, lbl):\n",
    "    a, l, _ = sess.run([l2_accuracy, l2_loss, l2_optimizer], feed_dict={inputs:img, labels:lbl}) \n",
    "    return a, l\n",
    "train(l2_trainer)\n"
   ]
  },
  {
   "cell_type": "markdown",
   "metadata": {},
   "source": [
    "## Part 6: Evaluation"
   ]
  },
  {
   "cell_type": "markdown",
   "metadata": {},
   "source": [
    "### See your model"
   ]
  },
  {
   "cell_type": "code",
   "execution_count": null,
   "metadata": {},
   "outputs": [],
   "source": [
    "# Show the current graph\n",
    "util.show_graph(tf.get_default_graph().as_graph_def())"
   ]
  },
  {
   "cell_type": "markdown",
   "metadata": {},
   "source": [
    "### Compute the valiation accuracy\n",
    "You'll see some massive overfitting here, but don't worry we will deal with that in the coming weeks."
   ]
  },
  {
   "cell_type": "code",
   "execution_count": null,
   "metadata": {},
   "outputs": [],
   "source": [
    "image_val, label_val = load('tux_val.dat')\n",
    "\n",
    "print('Input shape: ' + str(image_data.shape))\n",
    "print('Labels shape: ' + str(label_data.shape))\n",
    "\n",
    "print(\"Scalar regressor\", sess.run([sr_accuracy, sr_loss], feed_dict={inputs: image_val, labels: label_val}))\n",
    "\n",
    "# Train onehot regressor network\n",
    "print(\"Onehot regressor\", sess.run([ohr_accuracy, ohr_loss], feed_dict={inputs: image_val, labels: label_val}))\n",
    "\n",
    "# Train classifier\n",
    "print(\"Softmax+ll regressor\", sess.run([l1_accuracy, l1_loss], feed_dict={inputs: image_val, labels: label_val}))\n",
    "\n",
    "# Train classifier\n",
    "print(\"Softmax+l2 regressor\", sess.run([l2_accuracy, l2_loss], feed_dict={inputs: image_val, labels: label_val}))"
   ]
  },
  {
   "cell_type": "markdown",
   "metadata": {},
   "source": [
    "## Part 7: Save Model\n",
    "Like homework 1 you are turning in your TensorFlow graph.  This time, however, you are saving the trained weights along with the structure."
   ]
  },
  {
   "cell_type": "code",
   "execution_count": null,
   "metadata": {
    "collapsed": true
   },
   "outputs": [],
   "source": [
    "util.save('assignment3.tfg', session=sess)"
   ]
  },
  {
   "cell_type": "code",
   "execution_count": null,
   "metadata": {
    "collapsed": true
   },
   "outputs": [],
   "source": []
  }
 ],
 "metadata": {
  "anaconda-cloud": {},
  "kernelspec": {
   "display_name": "Python 3",
   "language": "python",
   "name": "python3"
  },
  "language_info": {
   "codemirror_mode": {
    "name": "ipython",
    "version": 3
   },
   "file_extension": ".py",
   "mimetype": "text/x-python",
   "name": "python",
   "nbconvert_exporter": "python",
   "pygments_lexer": "ipython3",
   "version": "3.6.2"
  }
 },
 "nbformat": 4,
 "nbformat_minor": 1
}
