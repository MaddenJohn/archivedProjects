{
 "cells": [
  {
   "cell_type": "code",
   "execution_count": 1,
   "metadata": {
    "collapsed": true
   },
   "outputs": [],
   "source": [
    "import tensorflow as tf"
   ]
  },
  {
   "cell_type": "markdown",
   "metadata": {},
   "source": [
    "The goal of the assignment is to estimate $\\pi/4$ given a bunch of uniform random numbers in the interval [0, 1]"
   ]
  },
  {
   "cell_type": "code",
   "execution_count": 2,
   "metadata": {},
   "outputs": [],
   "source": [
    "# Let's start building up the TensorFlow graph to do this.\n",
    "\n",
    "# The input to the network should be read through a TensorFlow placeholder named ‘input’\n",
    "\n",
    "# The first parameter is the type: tf.float32, a float\n",
    "# The second parameter is the shape of the tensor as a tuple\n",
    "#    For each dimension None means the size can be arbitrary\n",
    "#    2 means this placeholder has size 2 in this dimension (x and y)\n",
    "inputs = tf.placeholder(tf.float32, (None,2), name='input')"
   ]
  },
  {
   "cell_type": "code",
   "execution_count": 3,
   "metadata": {
    "collapsed": true
   },
   "outputs": [],
   "source": [
    "######################\n",
    "### Your Code Here ###\n",
    "######################\n",
    "\n",
    "# Your estimate of pi/4 should be computed in a variable pi_fourth\n"
   ]
  },
  {
   "cell_type": "code",
   "execution_count": 4,
   "metadata": {},
   "outputs": [],
   "source": [
    "#mult = tf.multiply(inputs, inputs)\n",
    "#avg = tf.reduce_mean(mult, 1) * 2\n",
    "#res = tf.sqrt(avg)\n",
    "#cast = tf.cast(res, tf.int32) \n",
    "#cast = tf.cast(cast, tf.float32) \n",
    "#allSum = tf.reduce_mean(cast)\n",
    "#final = tf.subtract(1.0, allSum)\n",
    "#pi_fourth = final\n",
    "#print (final)"
   ]
  },
  {
   "cell_type": "code",
   "execution_count": 5,
   "metadata": {},
   "outputs": [],
   "source": [
    "#sess = tf.Session()\n",
    "mult = tf.multiply(inputs, inputs)\n",
    "sub = tf.subtract(1.0, mult)\n",
    "res = tf.sqrt(sub)\n",
    "final = tf.reduce_mean(res)\n",
    "pi_fourth = final\n",
    "#print(sess.run(final, {inputs: [[.75,.75],[.2,.4],[.5,.6]]}))"
   ]
  },
  {
   "cell_type": "code",
   "execution_count": 6,
   "metadata": {
    "collapsed": true
   },
   "outputs": [],
   "source": [
    "#import numpy as np\n",
    "#n = 1000\n",
    "#arr = np.random.random((n,2))\n",
    "#count = 0\n",
    "#for x,y in arr:\n",
    "#    output = (x*x + y*y)\n",
    "#    if(output < 1):\n",
    "#        count += 1\n",
    "#pi_fourth = count / n\n",
    "#pi_fourth"
   ]
  },
  {
   "cell_type": "code",
   "execution_count": 7,
   "metadata": {},
   "outputs": [
    {
     "data": {
      "text/plain": [
       "<tf.Tensor 'output:0' shape=() dtype=float32>"
      ]
     },
     "execution_count": 7,
     "metadata": {},
     "output_type": "execute_result"
    }
   ],
   "source": [
    "# The output tensor (your estimate of pi/4) should be named ‘output’:\n",
    "#    IMPORTANT: the grader needs your output value to come from a tensor\n",
    "#    named 'output'\n",
    "output = tf.identity(pi_fourth, name='output')\n",
    "output"
   ]
  },
  {
   "cell_type": "code",
   "execution_count": 8,
   "metadata": {
    "collapsed": true
   },
   "outputs": [],
   "source": [
    "# Save the graph for turn in\n",
    "import util \n",
    "util.save('assignment1.tfg')"
   ]
  }
 ],
 "metadata": {
  "anaconda-cloud": {},
  "celltoolbar": "Raw Cell Format",
  "kernelspec": {
   "display_name": "Python 3",
   "language": "python",
   "name": "python3"
  },
  "language_info": {
   "codemirror_mode": {
    "name": "ipython",
    "version": 3
   },
   "file_extension": ".py",
   "mimetype": "text/x-python",
   "name": "python",
   "nbconvert_exporter": "python",
   "pygments_lexer": "ipython3",
   "version": "3.6.2"
  }
 },
 "nbformat": 4,
 "nbformat_minor": 1
}
