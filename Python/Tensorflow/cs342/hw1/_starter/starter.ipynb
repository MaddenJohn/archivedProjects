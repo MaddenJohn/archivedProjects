{
 "cells": [
  {
   "cell_type": "code",
   "execution_count": 1,
   "metadata": {
    "collapsed": true
   },
   "outputs": [],
   "source": [
    "import tensorflow as tf"
   ]
  },
  {
   "cell_type": "markdown",
   "metadata": {},
   "source": [
    "The goal of the assignment is to estimate $\\pi/4$ given a bunch of uniform random numbers in the interval [0, 1]"
   ]
  },
  {
   "cell_type": "code",
   "execution_count": 2,
   "metadata": {
    "collapsed": true
   },
   "outputs": [],
   "source": [
    "# Let's start building up the TensorFlow graph to do this.\n",
    "\n",
    "# The input to the network should be read through a TensorFlow placeholder named ‘input’\n",
    "\n",
    "# The first parameter is the type: tf.float32, a float\n",
    "# The second parameter is the shape of the tensor as a tuple\n",
    "#    For each dimension None means the size can be arbitrary\n",
    "#    2 means this placeholder has size 2 in this dimension (x and y)\n",
    "inputs = tf.placeholder(tf.float32, (None,2), name='input')"
   ]
  },
  {
   "cell_type": "code",
   "execution_count": 3,
   "metadata": {
    "collapsed": true
   },
   "outputs": [],
   "source": [
    "######################\n",
    "### Your Code Here ###\n",
    "######################\n",
    "\n",
    "# Your estimate of pi/4 should be computed in a variable pi_fourth"
   ]
  },
  {
   "cell_type": "code",
   "execution_count": 4,
   "metadata": {},
   "outputs": [
    {
     "data": {
      "text/plain": [
       "'\\nmult = tf.multiply(inputs, inputs)\\nsub = tf.subtract(1.0, mult)\\nres = tf.sqrt(sub)\\nfinal = tf.reduce_mean(res)\\npi_fourth = final\\n'"
      ]
     },
     "execution_count": 4,
     "metadata": {},
     "output_type": "execute_result"
    }
   ],
   "source": [
    "\"\"\"\n",
    "mult = tf.multiply(inputs, inputs)\n",
    "sub = tf.subtract(1.0, mult)\n",
    "res = tf.sqrt(sub)\n",
    "final = tf.reduce_mean(res)\n",
    "pi_fourth = final\n",
    "\"\"\""
   ]
  },
  {
   "cell_type": "code",
   "execution_count": 5,
   "metadata": {},
   "outputs": [],
   "source": [
    "#\"\"\"\n",
    "import util\n",
    "# Create the input placeholder and name it 'input'\n",
    "#I = tf.placeholder(tf.float32, (None,2), name='input')\n",
    "I = inputs\n",
    "\n",
    "# Compute PI\n",
    "#pi = tf.reduce_mean(tf.cast(I[:,0]*I[:,0]+I[:,1]*I[:,1] < 1, tf.float32))\n",
    "\n",
    "# Extra credit, you can integrate out the x or y axis to get a more accurate estimate of pi\n",
    "#pi = tf.reduce_mean(tf.cast(tf.sqrt(1-I*I), tf.float32))\n",
    "\n",
    "# More extra credit, you can reuse the random variables to a certain degree, by using both x and 1-x and by shifting them and removing the most significant bit, if not for numerical issues, this approach would work with just a single random variable (in fact it does roughtly 90% of the time)\n",
    "# Your classmate Joe came up with the original idea for this.\n",
    "\n",
    "x = I\n",
    "list_pi = []\n",
    "for i in range(20):\n",
    "  # Estimate pi using both x and 1-x\n",
    "  pi = (tf.reduce_mean(tf.cast(tf.sqrt(1-x*x), tf.float32)) + tf.reduce_mean(tf.cast(tf.sqrt((2-x)*x), tf.float32)))/2\n",
    "  list_pi.append(pi)\n",
    "  # Remove the most significant bit (and use the lower bits)\n",
    "  x = x * 2\n",
    "  x -= tf.floor(x)\n",
    "# Pi the the average of all bit-shifted versions in list_pi\n",
    "pi = tf.reduce_mean(list_pi)\n",
    "\n",
    "pi_fourth = pi\n",
    "#\"\"\""
   ]
  },
  {
   "cell_type": "code",
   "execution_count": 6,
   "metadata": {},
   "outputs": [
    {
     "data": {
      "text/plain": [
       "<tf.Tensor 'output:0' shape=() dtype=float32>"
      ]
     },
     "execution_count": 6,
     "metadata": {},
     "output_type": "execute_result"
    }
   ],
   "source": [
    "# The output tensor (your estimate of pi/4) should be named ‘output’:\n",
    "#    IMPORTANT: the grader needs your output value to come from a tensor\n",
    "#    named 'output'\n",
    "output = tf.identity(pi_fourth, name='output')\n",
    "output"
   ]
  },
  {
   "cell_type": "code",
   "execution_count": 7,
   "metadata": {
    "collapsed": true
   },
   "outputs": [],
   "source": [
    "# Save the graph for turn in\n",
    "import util \n",
    "util.save('assignment1.tfg')"
   ]
  }
 ],
 "metadata": {
  "anaconda-cloud": {},
  "celltoolbar": "Raw Cell Format",
  "kernelspec": {
   "display_name": "Python 3",
   "language": "python",
   "name": "python3"
  },
  "language_info": {
   "codemirror_mode": {
    "name": "ipython",
    "version": 3
   },
   "file_extension": ".py",
   "mimetype": "text/x-python",
   "name": "python",
   "nbconvert_exporter": "python",
   "pygments_lexer": "ipython3",
   "version": "3.6.2"
  }
 },
 "nbformat": 4,
 "nbformat_minor": 1
}
