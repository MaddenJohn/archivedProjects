{
 "cells": [
  {
   "cell_type": "markdown",
   "metadata": {},
   "source": [
    "# Section 8\n",
    "\n",
    "### Today\n",
    "<ul>\n",
    "    <li><a href='https://www.tensorflow.org/api_guides/python/nn#Recurrent_Neural_Networks'>Recurrent Neural Networks</a></li>\n",
    "    <li><a href='https://www.tensorflow.org/tutorials/seq2seq'>TF Seq2Seq Tutorial</a></li>\n",
    "    <li><a href='https://www.tensorflow.org/api_docs/python/tf/contrib/rnn/RNNCell'>RNNCell</a>, <a href='https://www.tensorflow.org/api_docs/python/tf/contrib/rnn/LSTMCell'>LSTMCell</a>, and <a href='https://www.tensorflow.org/api_docs/python/tf/contrib/rnn/GRUCell'>GRUCell</a></li>\n",
    "    <li><a href='https://www.tensorflow.org/api_docs/python/tf/contrib/rnn/MultiRNNCell'>MultiRNCell</a></li>\n",
    "    <li><a href='https://www.tensorflow.org/api_docs/python/tf/nn/dynamic_rnn'>dynamic_rnn</a></li>\n",
    "</ul>\n",
    "\n",
    "### Related Reading\n",
    "<ul>\n",
    "<li><a href='http://www.wildml.com/2016/08/rnns-in-tensorflow-a-practical-guide-and-undocumented-features/'>RNNs in TensorFlow and Undocumented Features</a></li>\n",
    "</ul>"
   ]
  },
  {
   "cell_type": "code",
   "execution_count": null,
   "metadata": {
    "collapsed": true
   },
   "outputs": [],
   "source": [
    "import tensorflow as tf\n",
    "from tensorflow.contrib.rnn import RNNCell\n",
    "import numpy as np\n",
    "import matplotlib.pyplot as plt\n",
    "import util"
   ]
  },
  {
   "cell_type": "code",
   "execution_count": null,
   "metadata": {
    "collapsed": true
   },
   "outputs": [],
   "source": [
    "% matplotlib inline\n",
    "\n",
    "# Let's create some sine waves that we can use as our time series data\n",
    "num_waves = 100\n",
    "num_samples = 1000\n",
    "start = 0\n",
    "end = 50\n",
    "\n",
    "input_data = np.zeros((num_waves, num_samples))\n",
    "for w in range(num_waves):\n",
    "    xs = np.linspace(start, end, num_samples)\n",
    "    ys = np.sin(xs) * (np.random.rand(1) ** 2)\n",
    "    input_data[w] = ys\n",
    "\n",
    "input_data = np.expand_dims(input_data, axis=-1)\n",
    "print(input_data.shape)\n",
    "label_data = np.concatenate([input_data[:,1:], np.zeros((num_waves, 1, 1))], axis=1)\n",
    "print(label_data.shape)\n",
    "plt.plot(xs, ys)"
   ]
  },
  {
   "cell_type": "markdown",
   "metadata": {},
   "source": [
    "## <a href='https://www.tensorflow.org/api_docs/python/tf/contrib/rnn/RNNCell'>RNNCell</a>"
   ]
  },
  {
   "cell_type": "code",
   "execution_count": null,
   "metadata": {
    "collapsed": true
   },
   "outputs": [],
   "source": [
    "tf.reset_default_graph()\n"
   ]
  },
  {
   "cell_type": "markdown",
   "metadata": {},
   "source": [
    "## <a href='https://www.tensorflow.org/api_docs/python/tf/nn/dynamic_rnn'>dynamic_rnn</a>"
   ]
  },
  {
   "cell_type": "code",
   "execution_count": null,
   "metadata": {
    "collapsed": true
   },
   "outputs": [],
   "source": []
  },
  {
   "cell_type": "code",
   "execution_count": null,
   "metadata": {
    "collapsed": true
   },
   "outputs": [],
   "source": [
    "\n",
    "sess = tf.Session()\n",
    "\n",
    "sess.run(tf.global_variables_initializer())\n",
    "sess.run(tf.local_variables_initializer())\n",
    "epochs = 10\n",
    "for e in range(epochs):\n",
    "    l, _ = sess.run([loss, opt], feed_dict={inputs: input_data, labels: label_data})\n",
    "    if e % 10 == 0:\n",
    "        print(l)"
   ]
  },
  {
   "cell_type": "code",
   "execution_count": null,
   "metadata": {
    "collapsed": true
   },
   "outputs": [],
   "source": [
    "% matplotlib inline\n",
    "preds = sess.run(outputs, feed_dict={inputs: input_data})\n",
    "preds = np.reshape(preds, [num_waves, num_samples, 1])\n",
    "print(preds.shape)\n",
    "\n",
    "index = 0\n",
    "plt.plot(xs, preds[index])\n",
    "plt.plot(xs, label_data[index])"
   ]
  },
  {
   "cell_type": "code",
   "execution_count": null,
   "metadata": {
    "collapsed": true
   },
   "outputs": [],
   "source": [
    "util.show_graph(tf.get_default_graph())"
   ]
  },
  {
   "cell_type": "markdown",
   "metadata": {},
   "source": [
    "## <a href='https://www.tensorflow.org/api_docs/python/tf/contrib/rnn/MultiRNNCell'>MultiRNNCell</a>\n",
    "Use MultiRNNCell to chain multiple RNNCells together."
   ]
  },
  {
   "cell_type": "code",
   "execution_count": null,
   "metadata": {
    "collapsed": true
   },
   "outputs": [],
   "source": [
    "tf.reset_default_graph()\n",
    "\n",
    "\n",
    "\n",
    "\n",
    "sess = tf.Session()\n",
    "\n",
    "sess.run(tf.global_variables_initializer())\n",
    "sess.run(tf.local_variables_initializer())\n",
    "epochs = 10\n",
    "for e in range(epochs):\n",
    "    l, _ = sess.run([multi_loss, multi_opt], feed_dict={inputs: input_data, labels: label_data})\n",
    "    if e % 10 == 0:\n",
    "        print(l)"
   ]
  },
  {
   "cell_type": "code",
   "execution_count": null,
   "metadata": {
    "collapsed": true
   },
   "outputs": [],
   "source": [
    "% matplotlib inline\n",
    "preds = sess.run(multi_out, feed_dict={inputs: input_data})\n",
    "preds = np.reshape(preds, [num_waves, num_samples, 1])\n",
    "print(preds.shape)\n",
    "\n",
    "index = 0\n",
    "plt.plot(xs, preds[index])\n",
    "plt.plot(xs, label_data[index])"
   ]
  },
  {
   "cell_type": "code",
   "execution_count": null,
   "metadata": {
    "collapsed": true
   },
   "outputs": [],
   "source": [
    "util.show_graph(tf.get_default_graph())"
   ]
  },
  {
   "cell_type": "markdown",
   "metadata": {},
   "source": [
    "## <a href='https://github.com/tensorflow/tensorflow/blob/r1.3/tensorflow/python/ops/rnn_cell_impl.py'>Custom RNNCells</a>"
   ]
  },
  {
   "cell_type": "code",
   "execution_count": null,
   "metadata": {
    "collapsed": true
   },
   "outputs": [],
   "source": []
  },
  {
   "cell_type": "code",
   "execution_count": null,
   "metadata": {
    "collapsed": true
   },
   "outputs": [],
   "source": [
    "tf.reset_default_graph()\n",
    "\n"
   ]
  },
  {
   "cell_type": "code",
   "execution_count": null,
   "metadata": {
    "collapsed": true
   },
   "outputs": [],
   "source": [
    "shaped_labels = tf.reshape(labels, [-1, 1])\n",
    "loss = tf.reduce_mean((outputs - shaped_labels) ** 2)\n",
    "opt = tf.train.AdamOptimizer().minimize(loss)\n",
    "\n",
    "sess = tf.Session()\n",
    "\n",
    "sess.run(tf.global_variables_initializer())\n",
    "sess.run(tf.local_variables_initializer())\n",
    "epochs = 100\n",
    "for e in range(epochs):\n",
    "    l, _ = sess.run([loss, opt], feed_dict={inputs: input_data, labels: label_data})\n",
    "    if e % 10 == 0:\n",
    "        print(l)"
   ]
  },
  {
   "cell_type": "code",
   "execution_count": null,
   "metadata": {
    "collapsed": true
   },
   "outputs": [],
   "source": [
    "% matplotlib inline\n",
    "preds = sess.run(outputs, feed_dict={inputs: input_data})\n",
    "preds = np.reshape(preds, [num_waves, num_samples, 1])\n",
    "print(preds.shape)\n",
    "\n",
    "index = 0\n",
    "plt.plot(xs, preds[index])\n",
    "plt.plot(xs, label_data[index])"
   ]
  },
  {
   "cell_type": "code",
   "execution_count": null,
   "metadata": {
    "collapsed": true
   },
   "outputs": [],
   "source": [
    "util.show_graph(tf.get_default_graph())"
   ]
  },
  {
   "cell_type": "code",
   "execution_count": null,
   "metadata": {
    "collapsed": true
   },
   "outputs": [],
   "source": []
  }
 ],
 "metadata": {
  "anaconda-cloud": {},
  "kernelspec": {
   "display_name": "Python 3",
   "language": "python",
   "name": "python3"
  },
  "language_info": {
   "codemirror_mode": {
    "name": "ipython",
    "version": 3
   },
   "file_extension": ".py",
   "mimetype": "text/x-python",
   "name": "python",
   "nbconvert_exporter": "python",
   "pygments_lexer": "ipython3",
   "version": "3.6.2"
  }
 },
 "nbformat": 4,
 "nbformat_minor": 1
}
