{
 "cells": [
  {
   "cell_type": "markdown",
   "metadata": {},
   "source": [
    "# Section 3\n",
    "\n",
    "## Today's Topics\n",
    "<ul>\n",
    "<li>Review TF Basics</li>\n",
    "<li>More on TF</li>\n",
    "<li>Loss Functions</li>\n",
    "</ul>\n",
    "\n",
    "### Extra Resources\n",
    "<ul>\n",
    "<li><a href='https://www.tensorflow.org/'>TensorFlow</a></li>\n",
    "<li><a href='https://www.tensorflow.org/get_started/'>TF Getting Started Tutorials</a></li>\n",
    "<li><a href='https://www.tensorflow.org/programmers_guide/'>TF Programmer's Guide</a></li>\n",
    "<li><a href='http://cs231n.github.io/linear-classify/'>Notes on Linear Classification</a> - see this if you are confused on what we have been doing.\n",
    "<li><a href='http://ufldl.stanford.edu/tutorial/supervised/SoftmaxRegression/'>Notes on Softmax Regression</a> - see this if you are confused on what we are doing now.\n",
    "</ul>\n",
    "\n",
    "### Open Questions\n",
    "What is still confusing? Let's work through some examples together.\n",
    "\n",
    "Potential topics:\n",
    "<ul>\n",
    "<li>Activation and weight sizes</li>\n",
    "<li>Hidden layers</li>\n",
    "<li>Activation functions</li>\n",
    "<li>Initializing variables</li>\n",
    "<li>Getting outputs from your graph\n",
    "</ul>"
   ]
  },
  {
   "cell_type": "code",
   "execution_count": null,
   "metadata": {
    "collapsed": true
   },
   "outputs": [],
   "source": [
    "import tensorflow as tf\n",
    "import numpy as np\n",
    "\n",
    "sess = tf.Session()\n",
    "\n",
    "### In class examples\n",
    "inputs = tf.placeholder(tf.float32, (None, 2))\n",
    "labels = tf.placeholder(tf.float32, (None, 1))\n",
    "outputs = tf.layers(tf.int32, (None, 1))\n",
    "\n",
    "loss = tf.losses.sigmoid_cross_entropy_with_logits(labels=labes, logits=outputs)\n",
    "print(loss)\n",
    "\n",
    "###"
   ]
  },
  {
   "cell_type": "markdown",
   "metadata": {},
   "source": [
    "### More on TensorFlow"
   ]
  },
  {
   "cell_type": "code",
   "execution_count": null,
   "metadata": {
    "collapsed": true
   },
   "outputs": [],
   "source": [
    "# Reshaping data\n",
    "inputs = tf.placeholder(tf.float32, (None, 32, 32, 3))\n",
    "\n",
    "# Flattening\n",
    "\n",
    "\n",
    "# Other reshapes\n"
   ]
  },
  {
   "cell_type": "code",
   "execution_count": null,
   "metadata": {
    "collapsed": true
   },
   "outputs": [],
   "source": [
    "# One hot vectors\n",
    "\n",
    "# We have labels [2, 1, 0, 3]\n",
    "# We want labels [[0, 0, 1, 0], [0, 1, 0, 0], [1, 0, 0, 0], [0, 0, 0, 1]]\n",
    "labels = tf.placeholder(tf.int32, (10))\n",
    "\n"
   ]
  },
  {
   "cell_type": "code",
   "execution_count": null,
   "metadata": {
    "collapsed": true
   },
   "outputs": [],
   "source": [
    "# Layers\n",
    "inputs2 = tf.placeholder(tf.float32, (None, 10))\n",
    "\n",
    "# Fully-connected layers\n",
    "\n",
    "\n",
    "# Other layers?\n",
    "\n"
   ]
  },
  {
   "cell_type": "markdown",
   "metadata": {},
   "source": [
    "### Loss Functions\n",
    "\n",
    "<a href='https://www.tensorflow.org/versions/r1.3/api_docs/python/tf/nn/softmax_cross_entropy_with_logits'>Softmax Cross Entropy With Logits</a><br/>\n",
    "<a href='https://www.tensorflow.org/versions/r1.3/api_docs/python/tf/nn/sparse_softmax_cross_entropy_with_logits'>Sparse Softmax Cross Entropy</a><br>\n",
    "<a href='https://www.tensorflow.org/versions/r1.3/api_docs/python/tf/nn/sigmoid_cross_entropy_with_logits'>Sigmoid Cross Entropy With Logits</a><br/>\n",
    "<a href='http://peterroelants.github.io/posts/neural_network_implementation_intermezzo02/'>Notes on Softmax</a>\n",
    "\n",
    "Look at the documentation:\n",
    "<ul>\n",
    "<li>Does a loss function ask for unscaled logits? Why?</li>\n",
    "<li>What order should you pass your arguments? What happens if you flip one?</li>\n",
    "<li>Where can you find the TensorFlow source code?</li>\n",
    "</ul>"
   ]
  },
  {
   "cell_type": "code",
   "execution_count": null,
   "metadata": {
    "collapsed": true
   },
   "outputs": [],
   "source": []
  },
  {
   "cell_type": "markdown",
   "metadata": {},
   "source": [
    "### Optimization\n",
    "<a href='https://distill.pub/2017/momentum/'>Why Momentum Really Works - Distill</a>"
   ]
  },
  {
   "cell_type": "code",
   "execution_count": null,
   "metadata": {
    "collapsed": true
   },
   "outputs": [],
   "source": []
  }
 ],
 "metadata": {
  "anaconda-cloud": {},
  "kernelspec": {
   "display_name": "Python 3",
   "language": "python",
   "name": "python3"
  },
  "language_info": {
   "codemirror_mode": {
    "name": "ipython",
    "version": 3
   },
   "file_extension": ".py",
   "mimetype": "text/x-python",
   "name": "python",
   "nbconvert_exporter": "python",
   "pygments_lexer": "ipython3",
   "version": "3.6.2"
  }
 },
 "nbformat": 4,
 "nbformat_minor": 2
}
